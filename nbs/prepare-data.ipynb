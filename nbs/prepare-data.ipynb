{
 "cells": [
  {
   "cell_type": "code",
   "execution_count": 1,
   "metadata": {},
   "outputs": [],
   "source": [
    "import pickle\n",
    "import yaml\n",
    "import pandas as pd"
   ]
  },
  {
   "cell_type": "code",
   "execution_count": 2,
   "metadata": {},
   "outputs": [],
   "source": [
    "annotation_data = pd.read_csv('../data/annotations.csv', low_memory=False).sort_values('audio_filename')"
   ]
  },
  {
   "cell_type": "code",
   "execution_count": 3,
   "metadata": {},
   "outputs": [],
   "source": [
    "with open('../data/dcase-ust-taxonomy.yaml', 'r') as f:\n",
    "    taxonomy = yaml.load(f, Loader=yaml.Loader)"
   ]
  },
  {
   "cell_type": "code",
   "execution_count": 4,
   "metadata": {},
   "outputs": [],
   "source": [
    "file_list = annotation_data['audio_filename'].unique().tolist()\n",
    "\n",
    "full_fine_target_labels = [\"{}-{}_{}\".format(coarse_id, fine_id, fine_label)\n",
    "                           for coarse_id, fine_dict in taxonomy['fine'].items()\n",
    "                           for fine_id, fine_label in fine_dict.items()]\n",
    "\n",
    "fine_target_labels = [x\n",
    "                      for x in full_fine_target_labels\n",
    "                      if x.split('_')[0].split('-')[1] != 'X']\n",
    "\n",
    "coarse_target_labels = [\"_\".join([str(k), v])\n",
    "                        for k, v in taxonomy['coarse'].items()]\n",
    "\n",
    "tmp1 = pd.DataFrame.from_records([\n",
    "    (key1, key2, val2)\n",
    "    for key1, val1 in taxonomy['fine'].items()\n",
    "    for key2, val2 in val1.items()\n",
    "], columns=['coarse_id', 'fine_id', 'fine'])\n",
    "tmp2 = pd.DataFrame.from_records([\n",
    "    (key, val)\n",
    "    for key, val in taxonomy['coarse'].items()\n",
    "], columns=['coarse_id', 'coarse'])\n",
    "taxonomy_df = pd.merge(tmp1, tmp2, on='coarse_id', how='inner')\n",
    "taxonomy_df = taxonomy_df.astype('str')\n",
    "taxonomy_df['coarse'] = taxonomy_df.coarse_id + '_' + taxonomy_df.coarse\n",
    "taxonomy_df['fine'] = taxonomy_df.coarse_id + '-' + taxonomy_df.fine_id + '_' + taxonomy_df.fine"
   ]
  },
  {
   "cell_type": "code",
   "execution_count": 5,
   "metadata": {},
   "outputs": [],
   "source": [
    "train_data = (annotation_data.copy()\n",
    "              .loc[lambda x: x.split == 'train']\n",
    "              .set_index('audio_filename')\n",
    "              .filter(regex='.*_presence$', axis='columns')\n",
    "              .rename(columns=lambda x: x[:-9])\n",
    "              .astype('int64'))\n",
    "coarse_train = train_data.loc[:, sorted(taxonomy_df.coarse.unique())]\n",
    "fine_train = train_data.loc[:, sorted(taxonomy_df.fine.tolist())]"
   ]
  },
  {
   "cell_type": "code",
   "execution_count": 6,
   "metadata": {},
   "outputs": [],
   "source": [
    "valid_data = (annotation_data.copy()\n",
    "              .loc[lambda x: x.split == 'validate']\n",
    "              .loc[lambda x: x.annotator_id == 0]\n",
    "              .set_index('audio_filename')\n",
    "              .filter(regex='.*_presence$', axis='columns')\n",
    "              .rename(columns=lambda x: x[:-9])\n",
    "              .astype('int64'))\n",
    "coarse_valid = valid_data.loc[:, sorted(taxonomy_df.coarse.unique())]\n",
    "fine_valid = valid_data.loc[:, sorted(taxonomy_df.fine.tolist())]"
   ]
  },
  {
   "cell_type": "code",
   "execution_count": 7,
   "metadata": {},
   "outputs": [],
   "source": [
    "test_data = (annotation_data.copy()\n",
    "              .loc[lambda x: x.split == 'test']\n",
    "              .loc[lambda x: x.annotator_id == 0]\n",
    "              .set_index('audio_filename')\n",
    "              .filter(regex='.*_presence$', axis='columns')\n",
    "              .rename(columns=lambda x: x[:-9])\n",
    "              .astype('int64'))\n",
    "coarse_test = test_data.loc[:, sorted(taxonomy_df.coarse.unique())]\n",
    "fine_test = test_data.loc[:, sorted(taxonomy_df.fine.tolist())]"
   ]
  },
  {
   "cell_type": "code",
   "execution_count": 8,
   "metadata": {},
   "outputs": [
    {
     "data": {
      "text/plain": [
       "((7053, 37), (443, 37), (274, 37))"
      ]
     },
     "execution_count": 8,
     "metadata": {},
     "output_type": "execute_result"
    }
   ],
   "source": [
    "train_data.shape, valid_data.shape, test_data.shape"
   ]
  },
  {
   "cell_type": "code",
   "execution_count": 9,
   "metadata": {},
   "outputs": [],
   "source": [
    "coarse_train.sort_index(inplace=True)\n",
    "coarse_valid.sort_index(inplace=True)\n",
    "coarse_test.sort_index(inplace=True)\n",
    "fine_train.sort_index(inplace=True)\n",
    "fine_valid.sort_index(inplace=True)\n",
    "fine_test.sort_index(inplace=True)"
   ]
  },
  {
   "cell_type": "code",
   "execution_count": 10,
   "metadata": {},
   "outputs": [],
   "source": [
    "with open('./final_metadata.pkl', 'wb') as f:\n",
    "    pickle.dump({\n",
    "        'coarse_train': coarse_train,\n",
    "        'coarse_valid': coarse_valid,\n",
    "        'coarse_test': coarse_test,\n",
    "        'fine_train': fine_train,\n",
    "        'fine_valid': fine_valid,\n",
    "        'fine_test': fine_test,\n",
    "        'taxonomy_df': taxonomy_df\n",
    "    }, f)"
   ]
  },
  {
   "cell_type": "code",
   "execution_count": null,
   "metadata": {},
   "outputs": [],
   "source": []
  }
 ],
 "metadata": {
  "kernelspec": {
   "display_name": "Python 3",
   "language": "python",
   "name": "python3"
  },
  "language_info": {
   "codemirror_mode": {
    "name": "ipython",
    "version": 3
   },
   "file_extension": ".py",
   "mimetype": "text/x-python",
   "name": "python",
   "nbconvert_exporter": "python",
   "pygments_lexer": "ipython3",
   "version": "3.7.4"
  },
  "toc": {
   "base_numbering": 1,
   "nav_menu": {},
   "number_sections": true,
   "sideBar": true,
   "skip_h1_title": false,
   "title_cell": "Table of Contents",
   "title_sidebar": "Contents",
   "toc_cell": false,
   "toc_position": {},
   "toc_section_display": true,
   "toc_window_display": false
  }
 },
 "nbformat": 4,
 "nbformat_minor": 2
}
