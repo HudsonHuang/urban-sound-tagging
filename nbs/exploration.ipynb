{
 "cells": [
  {
   "cell_type": "code",
   "execution_count": 1,
   "metadata": {},
   "outputs": [],
   "source": [
    "import os\n",
    "import librosa\n",
    "import yaml\n",
    "import numpy as np\n",
    "import pandas as pd\n",
    "import matplotlib.pyplot as plt\n",
    "%matplotlib inline\n",
    "from tqdm import tqdm\n",
    "\n",
    "from IPython.core.interactiveshell import InteractiveShell\n",
    "InteractiveShell.ast_node_interactivity = 'all'"
   ]
  },
  {
   "cell_type": "markdown",
   "metadata": {},
   "source": [
    "# Load data"
   ]
  },
  {
   "cell_type": "code",
   "execution_count": 2,
   "metadata": {},
   "outputs": [
    {
     "data": {
      "text/plain": [
       "(10349, 70)"
      ]
     },
     "execution_count": 2,
     "metadata": {},
     "output_type": "execute_result"
    }
   ],
   "source": [
    "annotation_data = pd.read_csv('../data/annotations-dev.csv', low_memory=False).sort_values('audio_filename')\n",
    "annotation_data.shape"
   ]
  },
  {
   "cell_type": "code",
   "execution_count": 3,
   "metadata": {
    "scrolled": true
   },
   "outputs": [
    {
     "data": {
      "text/html": [
       "<div>\n",
       "<style scoped>\n",
       "    .dataframe tbody tr th:only-of-type {\n",
       "        vertical-align: middle;\n",
       "    }\n",
       "\n",
       "    .dataframe tbody tr th {\n",
       "        vertical-align: top;\n",
       "    }\n",
       "\n",
       "    .dataframe thead th {\n",
       "        text-align: right;\n",
       "    }\n",
       "</style>\n",
       "<table border=\"1\" class=\"dataframe\">\n",
       "  <thead>\n",
       "    <tr style=\"text-align: right;\">\n",
       "      <th></th>\n",
       "      <th>split</th>\n",
       "      <th>sensor_id</th>\n",
       "      <th>audio_filename</th>\n",
       "      <th>annotator_id</th>\n",
       "      <th>1-1_small-sounding-engine_presence</th>\n",
       "      <th>1-2_medium-sounding-engine_presence</th>\n",
       "      <th>1-3_large-sounding-engine_presence</th>\n",
       "      <th>1-X_engine-of-uncertain-size_presence</th>\n",
       "      <th>2-1_rock-drill_presence</th>\n",
       "      <th>2-2_jackhammer_presence</th>\n",
       "      <th>...</th>\n",
       "      <th>7-X_other-unknown-human-voice_proximity</th>\n",
       "      <th>8-1_dog-barking-whining_proximity</th>\n",
       "      <th>1_engine_presence</th>\n",
       "      <th>2_machinery-impact_presence</th>\n",
       "      <th>3_non-machinery-impact_presence</th>\n",
       "      <th>4_powered-saw_presence</th>\n",
       "      <th>5_alert-signal_presence</th>\n",
       "      <th>6_music_presence</th>\n",
       "      <th>7_human-voice_presence</th>\n",
       "      <th>8_dog_presence</th>\n",
       "    </tr>\n",
       "  </thead>\n",
       "  <tbody>\n",
       "    <tr>\n",
       "      <th>4339</th>\n",
       "      <td>train</td>\n",
       "      <td>27</td>\n",
       "      <td>27_002082.wav</td>\n",
       "      <td>598</td>\n",
       "      <td>0.0</td>\n",
       "      <td>0.0</td>\n",
       "      <td>0.0</td>\n",
       "      <td>0.0</td>\n",
       "      <td>0.0</td>\n",
       "      <td>0.0</td>\n",
       "      <td>...</td>\n",
       "      <td>-1</td>\n",
       "      <td>-1</td>\n",
       "      <td>0</td>\n",
       "      <td>0</td>\n",
       "      <td>0.0</td>\n",
       "      <td>1</td>\n",
       "      <td>0</td>\n",
       "      <td>0</td>\n",
       "      <td>0</td>\n",
       "      <td>0</td>\n",
       "    </tr>\n",
       "    <tr>\n",
       "      <th>6129</th>\n",
       "      <td>train</td>\n",
       "      <td>37</td>\n",
       "      <td>37_003076.wav</td>\n",
       "      <td>1376</td>\n",
       "      <td>0.0</td>\n",
       "      <td>0.0</td>\n",
       "      <td>0.0</td>\n",
       "      <td>0.0</td>\n",
       "      <td>0.0</td>\n",
       "      <td>0.0</td>\n",
       "      <td>...</td>\n",
       "      <td>-1</td>\n",
       "      <td>-1</td>\n",
       "      <td>0</td>\n",
       "      <td>0</td>\n",
       "      <td>0.0</td>\n",
       "      <td>0</td>\n",
       "      <td>0</td>\n",
       "      <td>0</td>\n",
       "      <td>0</td>\n",
       "      <td>0</td>\n",
       "    </tr>\n",
       "    <tr>\n",
       "      <th>8903</th>\n",
       "      <td>validate</td>\n",
       "      <td>6</td>\n",
       "      <td>06_000048.wav</td>\n",
       "      <td>-1</td>\n",
       "      <td>0.0</td>\n",
       "      <td>0.0</td>\n",
       "      <td>0.0</td>\n",
       "      <td>0.0</td>\n",
       "      <td>-1.0</td>\n",
       "      <td>-1.0</td>\n",
       "      <td>...</td>\n",
       "      <td>-1</td>\n",
       "      <td>-1</td>\n",
       "      <td>0</td>\n",
       "      <td>-1</td>\n",
       "      <td>-1.0</td>\n",
       "      <td>-1</td>\n",
       "      <td>-1</td>\n",
       "      <td>-1</td>\n",
       "      <td>-1</td>\n",
       "      <td>-1</td>\n",
       "    </tr>\n",
       "    <tr>\n",
       "      <th>10170</th>\n",
       "      <td>validate</td>\n",
       "      <td>6</td>\n",
       "      <td>06_000619.wav</td>\n",
       "      <td>0</td>\n",
       "      <td>0.0</td>\n",
       "      <td>1.0</td>\n",
       "      <td>1.0</td>\n",
       "      <td>0.0</td>\n",
       "      <td>0.0</td>\n",
       "      <td>0.0</td>\n",
       "      <td>...</td>\n",
       "      <td>-1</td>\n",
       "      <td>-1</td>\n",
       "      <td>1</td>\n",
       "      <td>0</td>\n",
       "      <td>0.0</td>\n",
       "      <td>0</td>\n",
       "      <td>0</td>\n",
       "      <td>0</td>\n",
       "      <td>0</td>\n",
       "      <td>0</td>\n",
       "    </tr>\n",
       "    <tr>\n",
       "      <th>9715</th>\n",
       "      <td>validate</td>\n",
       "      <td>0</td>\n",
       "      <td>00_000765.wav</td>\n",
       "      <td>-5</td>\n",
       "      <td>-1.0</td>\n",
       "      <td>-1.0</td>\n",
       "      <td>-1.0</td>\n",
       "      <td>-1.0</td>\n",
       "      <td>0.0</td>\n",
       "      <td>0.0</td>\n",
       "      <td>...</td>\n",
       "      <td>-1</td>\n",
       "      <td>-1</td>\n",
       "      <td>-1</td>\n",
       "      <td>0</td>\n",
       "      <td>0.0</td>\n",
       "      <td>-1</td>\n",
       "      <td>-1</td>\n",
       "      <td>-1</td>\n",
       "      <td>-1</td>\n",
       "      <td>-1</td>\n",
       "    </tr>\n",
       "  </tbody>\n",
       "</table>\n",
       "<p>5 rows × 70 columns</p>\n",
       "</div>"
      ],
      "text/plain": [
       "          split  sensor_id audio_filename  annotator_id  \\\n",
       "4339      train         27  27_002082.wav           598   \n",
       "6129      train         37  37_003076.wav          1376   \n",
       "8903   validate          6  06_000048.wav            -1   \n",
       "10170  validate          6  06_000619.wav             0   \n",
       "9715   validate          0  00_000765.wav            -5   \n",
       "\n",
       "       1-1_small-sounding-engine_presence  \\\n",
       "4339                                  0.0   \n",
       "6129                                  0.0   \n",
       "8903                                  0.0   \n",
       "10170                                 0.0   \n",
       "9715                                 -1.0   \n",
       "\n",
       "       1-2_medium-sounding-engine_presence  \\\n",
       "4339                                   0.0   \n",
       "6129                                   0.0   \n",
       "8903                                   0.0   \n",
       "10170                                  1.0   \n",
       "9715                                  -1.0   \n",
       "\n",
       "       1-3_large-sounding-engine_presence  \\\n",
       "4339                                  0.0   \n",
       "6129                                  0.0   \n",
       "8903                                  0.0   \n",
       "10170                                 1.0   \n",
       "9715                                 -1.0   \n",
       "\n",
       "       1-X_engine-of-uncertain-size_presence  2-1_rock-drill_presence  \\\n",
       "4339                                     0.0                      0.0   \n",
       "6129                                     0.0                      0.0   \n",
       "8903                                     0.0                     -1.0   \n",
       "10170                                    0.0                      0.0   \n",
       "9715                                    -1.0                      0.0   \n",
       "\n",
       "       2-2_jackhammer_presence  ...  7-X_other-unknown-human-voice_proximity  \\\n",
       "4339                       0.0  ...                                       -1   \n",
       "6129                       0.0  ...                                       -1   \n",
       "8903                      -1.0  ...                                       -1   \n",
       "10170                      0.0  ...                                       -1   \n",
       "9715                       0.0  ...                                       -1   \n",
       "\n",
       "       8-1_dog-barking-whining_proximity  1_engine_presence  \\\n",
       "4339                                  -1                  0   \n",
       "6129                                  -1                  0   \n",
       "8903                                  -1                  0   \n",
       "10170                                 -1                  1   \n",
       "9715                                  -1                 -1   \n",
       "\n",
       "       2_machinery-impact_presence  3_non-machinery-impact_presence  \\\n",
       "4339                             0                              0.0   \n",
       "6129                             0                              0.0   \n",
       "8903                            -1                             -1.0   \n",
       "10170                            0                              0.0   \n",
       "9715                             0                              0.0   \n",
       "\n",
       "       4_powered-saw_presence  5_alert-signal_presence  6_music_presence  \\\n",
       "4339                        1                        0                 0   \n",
       "6129                        0                        0                 0   \n",
       "8903                       -1                       -1                -1   \n",
       "10170                       0                        0                 0   \n",
       "9715                       -1                       -1                -1   \n",
       "\n",
       "       7_human-voice_presence  8_dog_presence  \n",
       "4339                        0               0  \n",
       "6129                        0               0  \n",
       "8903                       -1              -1  \n",
       "10170                       0               0  \n",
       "9715                       -1              -1  \n",
       "\n",
       "[5 rows x 70 columns]"
      ]
     },
     "execution_count": 3,
     "metadata": {},
     "output_type": "execute_result"
    }
   ],
   "source": [
    "annotation_data.sample(5)"
   ]
  },
  {
   "cell_type": "markdown",
   "metadata": {},
   "source": [
    "# Class distribution"
   ]
  },
  {
   "cell_type": "code",
   "execution_count": 4,
   "metadata": {},
   "outputs": [
    {
     "data": {
      "text/plain": [
       "(7053, 37)"
      ]
     },
     "execution_count": 4,
     "metadata": {},
     "output_type": "execute_result"
    }
   ],
   "source": [
    "(annotation_data.copy()\n",
    " .loc[lambda x: x.split == 'train']\n",
    " .set_index('audio_filename')\n",
    " .filter(regex='.*_presence$', axis='columns')\n",
    " .rename(columns=lambda x: x[:-9])\n",
    " .astype('int64').shape)"
   ]
  },
  {
   "cell_type": "code",
   "execution_count": 5,
   "metadata": {},
   "outputs": [
    {
     "data": {
      "text/plain": [
       "(2351,)"
      ]
     },
     "execution_count": 5,
     "metadata": {},
     "output_type": "execute_result"
    }
   ],
   "source": [
    "annotation_data.copy().loc[lambda x: x.split == 'train'].audio_filename.drop_duplicates().shape"
   ]
  },
  {
   "cell_type": "code",
   "execution_count": 6,
   "metadata": {},
   "outputs": [
    {
     "data": {
      "text/plain": [
       "7053"
      ]
     },
     "execution_count": 6,
     "metadata": {},
     "output_type": "execute_result"
    },
    {
     "data": {
      "text/plain": [
       "2351"
      ]
     },
     "execution_count": 6,
     "metadata": {},
     "output_type": "execute_result"
    }
   ],
   "source": [
    "tmp = annotation_data.copy().loc[lambda x: x.split == 'train']\n",
    "\n",
    "# total number of rows\n",
    "tmp.shape[0]\n",
    "# number of files\n",
    "tmp.audio_filename.drop_duplicates().shape[0]\n",
    "\n",
    "tmp = (tmp\n",
    "       .set_index('audio_filename')\n",
    "       .filter(regex='.*_presence$', axis='columns')\n",
    "       .rename(columns=lambda x: x[:-9])\n",
    "       .astype('int64'))\n",
    "\n",
    "tmp = (tmp\n",
    "       .reset_index()\n",
    "       .melt('audio_filename')\n",
    "       .loc[lambda x: x.value == 1]\n",
    "       .groupby('variable')['audio_filename']\n",
    "       .agg(lambda x: np.unique(x).shape[0]))"
   ]
  },
  {
   "cell_type": "code",
   "execution_count": 7,
   "metadata": {},
   "outputs": [],
   "source": [
    "from plotnine import *"
   ]
  },
  {
   "cell_type": "code",
   "execution_count": 8,
   "metadata": {},
   "outputs": [],
   "source": [
    "coarse = tmp.filter(regex='^[0-9]_[a-z]+', axis='rows').reset_index()"
   ]
  },
  {
   "cell_type": "code",
   "execution_count": 17,
   "metadata": {},
   "outputs": [
    {
     "data": {
      "text/plain": [
       "['8_dog',\n",
       " '7_human-voice',\n",
       " '6_music',\n",
       " '5_alert-signal',\n",
       " '4_powered-saw',\n",
       " '3_non-machinery-impact',\n",
       " '2_machinery-impact',\n",
       " '1_engine']"
      ]
     },
     "execution_count": 17,
     "metadata": {},
     "output_type": "execute_result"
    }
   ],
   "source": [
    "list(reversed(coarse.variable.tolist()))"
   ]
  },
  {
   "cell_type": "code",
   "execution_count": 19,
   "metadata": {},
   "outputs": [
    {
     "data": {
      "image/png": "[encoded data removed]",
      "text/plain": [
       "<Figure size 640x480 with 1 Axes>"
      ]
     },
     "metadata": {},
     "output_type": "display_data"
    },
    {
     "data": {
      "text/plain": [
       "<ggplot: (8734272870333)>"
      ]
     },
     "execution_count": 19,
     "metadata": {},
     "output_type": "execute_result"
    }
   ],
   "source": [
    "(ggplot(coarse.assign(label_pos=lambda x: x.audio_filename +70))\n",
    " + geom_col(aes('variable', 'audio_filename'))\n",
    " + coord_flip()\n",
    " + geom_text(aes('variable', 'label_pos', label='audio_filename'))\n",
    " + theme_bw()\n",
    " + scale_y_continuous(expand=(0, 0), limits=(0, 1500))\n",
    " + scale_x_discrete(\n",
    "     limits=['4_powered-saw','3_non-machinery-impact','6_music',\n",
    "             '2_machinery-impact','7_human-voice',\n",
    "             '1_engine','8_dog','5_alert-signal'],\n",
    "     labels=['Powered saw','Non-machinery impact','Music',\n",
    "             'Machinery impact','Human voice',\n",
    "             'Engine','Dog','Alert signal'])\n",
    " + xlab('Coarse labels')\n",
    " + ylab('Number of train files in which the class appears')\n",
    ")"
   ]
  },
  {
   "cell_type": "code",
   "execution_count": 10,
   "metadata": {},
   "outputs": [],
   "source": [
    "fine = tmp.filter(regex='^[0-9]-[0-9]_[a-z]+', axis='rows').reset_index()"
   ]
  },
  {
   "cell_type": "code",
   "execution_count": 11,
   "metadata": {},
   "outputs": [
    {
     "data": {
      "image/png": "[encoded data removed]",
      "text/plain": [
       "<Figure size 600x800 with 1 Axes>"
      ]
     },
     "metadata": {},
     "output_type": "display_data"
    },
    {
     "data": {
      "text/plain": [
       "<ggplot: (8747210670377)>"
      ]
     },
     "execution_count": 11,
     "metadata": {},
     "output_type": "execute_result"
    }
   ],
   "source": [
    "(ggplot(fine.assign(label_pos=lambda x: x.audio_filename + 35))\n",
    " + geom_col(aes('variable', 'audio_filename'))\n",
    " + coord_flip()\n",
    " + geom_text(aes('variable', 'label_pos', label='audio_filename'))\n",
    " + theme_bw()\n",
    " + theme(figure_size=(6, 8))\n",
    " + scale_y_continuous(expand=(0, 0), limits=(0, 800))\n",
    " + scale_x_discrete(limits=list(reversed(fine.variable.tolist())))\n",
    " + xlab('Fine labels')\n",
    " + ylab('Number of train files in which the class appears')\n",
    ")"
   ]
  },
  {
   "cell_type": "markdown",
   "metadata": {},
   "source": [
    "# Annotations - Train vs validation sets"
   ]
  },
  {
   "cell_type": "code",
   "execution_count": 12,
   "metadata": {
    "scrolled": true
   },
   "outputs": [
    {
     "data": {
      "image/png": "[encoded data removed]",
      "text/plain": [
       "<Figure size 432x288 with 1 Axes>"
      ]
     },
     "metadata": {
      "needs_background": "light"
     },
     "output_type": "display_data"
    }
   ],
   "source": [
    "annotation_data.sensor_id.value_counts(normalize=True).plot.bar();"
   ]
  },
  {
   "cell_type": "markdown",
   "metadata": {},
   "source": [
    "Sensor ID sets are disjoint between training and test"
   ]
  },
  {
   "cell_type": "markdown",
   "metadata": {},
   "source": [
    "---"
   ]
  },
  {
   "cell_type": "code",
   "execution_count": 13,
   "metadata": {},
   "outputs": [
    {
     "data": {
      "text/html": [
       "<div>\n",
       "<style scoped>\n",
       "    .dataframe tbody tr th:only-of-type {\n",
       "        vertical-align: middle;\n",
       "    }\n",
       "\n",
       "    .dataframe tbody tr th {\n",
       "        vertical-align: top;\n",
       "    }\n",
       "\n",
       "    .dataframe thead th {\n",
       "        text-align: right;\n",
       "    }\n",
       "</style>\n",
       "<table border=\"1\" class=\"dataframe\">\n",
       "  <thead>\n",
       "    <tr style=\"text-align: right;\">\n",
       "      <th></th>\n",
       "      <th>split</th>\n",
       "      <th>is_annotator_zooniverse</th>\n",
       "      <th>annotator_id</th>\n",
       "    </tr>\n",
       "  </thead>\n",
       "  <tbody>\n",
       "    <tr>\n",
       "      <th>0</th>\n",
       "      <td>train</td>\n",
       "      <td>True</td>\n",
       "      <td>3</td>\n",
       "    </tr>\n",
       "    <tr>\n",
       "      <th>2351</th>\n",
       "      <td>validate</td>\n",
       "      <td>False</td>\n",
       "      <td>19</td>\n",
       "    </tr>\n",
       "    <tr>\n",
       "      <th>2352</th>\n",
       "      <td>validate</td>\n",
       "      <td>True</td>\n",
       "      <td>3</td>\n",
       "    </tr>\n",
       "    <tr>\n",
       "      <th>2353</th>\n",
       "      <td>validate</td>\n",
       "      <td>False</td>\n",
       "      <td>5</td>\n",
       "    </tr>\n",
       "    <tr>\n",
       "      <th>2355</th>\n",
       "      <td>validate</td>\n",
       "      <td>False</td>\n",
       "      <td>7</td>\n",
       "    </tr>\n",
       "    <tr>\n",
       "      <th>2361</th>\n",
       "      <td>validate</td>\n",
       "      <td>False</td>\n",
       "      <td>3</td>\n",
       "    </tr>\n",
       "    <tr>\n",
       "      <th>2373</th>\n",
       "      <td>validate</td>\n",
       "      <td>False</td>\n",
       "      <td>9</td>\n",
       "    </tr>\n",
       "    <tr>\n",
       "      <th>2773</th>\n",
       "      <td>validate</td>\n",
       "      <td>False</td>\n",
       "      <td>11</td>\n",
       "    </tr>\n",
       "  </tbody>\n",
       "</table>\n",
       "</div>"
      ],
      "text/plain": [
       "         split  is_annotator_zooniverse  annotator_id\n",
       "0        train                     True             3\n",
       "2351  validate                    False            19\n",
       "2352  validate                     True             3\n",
       "2353  validate                    False             5\n",
       "2355  validate                    False             7\n",
       "2361  validate                    False             3\n",
       "2373  validate                    False             9\n",
       "2773  validate                    False            11"
      ]
     },
     "execution_count": 13,
     "metadata": {},
     "output_type": "execute_result"
    }
   ],
   "source": [
    "(annotation_data\n",
    " .assign(is_annotator_zooniverse=lambda x: x.annotator_id > 0)\n",
    " .groupby(['split', 'audio_filename', 'is_annotator_zooniverse'])['annotator_id'].count().reset_index()\n",
    " .rename({'annotator_id': 'num_annotations'})\n",
    " .drop(columns='audio_filename')\n",
    " .drop_duplicates())"
   ]
  },
  {
   "cell_type": "markdown",
   "metadata": {},
   "source": [
    "Zooniverse citizen science volunteers did both train and validation sets, but SONYC team members did only  validation set."
   ]
  },
  {
   "cell_type": "markdown",
   "metadata": {},
   "source": [
    "----"
   ]
  },
  {
   "cell_type": "code",
   "execution_count": 14,
   "metadata": {},
   "outputs": [
    {
     "data": {
      "text/plain": [
       "555"
      ]
     },
     "execution_count": 14,
     "metadata": {},
     "output_type": "execute_result"
    }
   ],
   "source": [
    "len(annotation_data.annotator_id.unique())"
   ]
  },
  {
   "cell_type": "code",
   "execution_count": 15,
   "metadata": {
    "scrolled": true
   },
   "outputs": [
    {
     "data": {
      "image/png": "[encoded data removed]",
      "text/plain": [
       "<Figure size 432x288 with 1 Axes>"
      ]
     },
     "metadata": {
      "needs_background": "light"
     },
     "output_type": "display_data"
    }
   ],
   "source": [
    "annotation_data.annotator_id.value_counts(normalize=True).head(50).plot.bar();"
   ]
  },
  {
   "cell_type": "code",
   "execution_count": 16,
   "metadata": {},
   "outputs": [
    {
     "data": {
      "text/plain": [
       "530"
      ]
     },
     "execution_count": 16,
     "metadata": {},
     "output_type": "execute_result"
    },
    {
     "data": {
      "text/plain": [
       "307"
      ]
     },
     "execution_count": 16,
     "metadata": {},
     "output_type": "execute_result"
    },
    {
     "data": {
      "text/plain": [
       "282"
      ]
     },
     "execution_count": 16,
     "metadata": {},
     "output_type": "execute_result"
    }
   ],
   "source": [
    "len(annotation_data.loc[lambda x: x.split == 'train'].annotator_id.unique())\n",
    "len(annotation_data.loc[lambda x: x.split == 'validate'].annotator_id.unique())\n",
    "len(set(annotation_data.loc[lambda x: x.split == 'train'].annotator_id.tolist()).intersection(\n",
    "    set(annotation_data.loc[lambda x: x.split == 'validate'].annotator_id.tolist())))"
   ]
  },
  {
   "cell_type": "markdown",
   "metadata": {},
   "source": [
    "# Taxonomy"
   ]
  },
  {
   "cell_type": "code",
   "execution_count": 17,
   "metadata": {},
   "outputs": [],
   "source": [
    "with open('../data/dcase-ust-taxonomy.yaml', 'r') as f:\n",
    "    taxonomy = yaml.load(f, Loader=yaml.Loader)"
   ]
  },
  {
   "cell_type": "code",
   "execution_count": 18,
   "metadata": {},
   "outputs": [],
   "source": [
    "file_list = annotation_data['audio_filename'].unique().tolist()\n",
    "\n",
    "full_fine_target_labels = [\"{}-{}_{}\".format(coarse_id, fine_id, fine_label)\n",
    "                           for coarse_id, fine_dict in taxonomy['fine'].items()\n",
    "                           for fine_id, fine_label in fine_dict.items()]\n",
    "\n",
    "fine_target_labels = [x\n",
    "                      for x in full_fine_target_labels\n",
    "                      if x.split('_')[0].split('-')[1] != 'X']\n",
    "\n",
    "coarse_target_labels = [\"_\".join([str(k), v])\n",
    "                        for k,v in taxonomy['coarse'].items()]"
   ]
  },
  {
   "cell_type": "code",
   "execution_count": 19,
   "metadata": {},
   "outputs": [],
   "source": [
    "tmp1 = pd.DataFrame.from_records([\n",
    "    (key1, key2, val2)\n",
    "    for key1, val1 in taxonomy['fine'].items()\n",
    "    for key2, val2 in val1.items()\n",
    "], columns=['coarse_id', 'fine_id', 'fine'])\n",
    "tmp2 = pd.DataFrame.from_records([\n",
    "    (key, val)\n",
    "    for key, val in taxonomy['coarse'].items()\n",
    "], columns=['coarse_id', 'coarse'])\n",
    "taxonomy_df = pd.merge(tmp1, tmp2, on='coarse_id', how='inner')\n",
    "taxonomy_df = taxonomy_df.astype('str')\n",
    "taxonomy_df['coarse'] = taxonomy_df.coarse_id + '_' + taxonomy_df.coarse\n",
    "taxonomy_df['fine'] = taxonomy_df.coarse_id + '-' +\\\n",
    "                      taxonomy_df.fine_id + '_' + taxonomy_df.fine"
   ]
  },
  {
   "cell_type": "code",
   "execution_count": 20,
   "metadata": {},
   "outputs": [
    {
     "data": {
      "text/html": [
       "<div>\n",
       "<style scoped>\n",
       "    .dataframe tbody tr th:only-of-type {\n",
       "        vertical-align: middle;\n",
       "    }\n",
       "\n",
       "    .dataframe tbody tr th {\n",
       "        vertical-align: top;\n",
       "    }\n",
       "\n",
       "    .dataframe thead th {\n",
       "        text-align: right;\n",
       "    }\n",
       "</style>\n",
       "<table border=\"1\" class=\"dataframe\">\n",
       "  <thead>\n",
       "    <tr style=\"text-align: right;\">\n",
       "      <th></th>\n",
       "      <th>coarse_id</th>\n",
       "      <th>fine_id</th>\n",
       "      <th>fine</th>\n",
       "      <th>coarse</th>\n",
       "    </tr>\n",
       "  </thead>\n",
       "  <tbody>\n",
       "    <tr>\n",
       "      <th>0</th>\n",
       "      <td>1</td>\n",
       "      <td>1</td>\n",
       "      <td>1-1_small-sounding-engine</td>\n",
       "      <td>1_engine</td>\n",
       "    </tr>\n",
       "    <tr>\n",
       "      <th>1</th>\n",
       "      <td>1</td>\n",
       "      <td>2</td>\n",
       "      <td>1-2_medium-sounding-engine</td>\n",
       "      <td>1_engine</td>\n",
       "    </tr>\n",
       "    <tr>\n",
       "      <th>2</th>\n",
       "      <td>1</td>\n",
       "      <td>3</td>\n",
       "      <td>1-3_large-sounding-engine</td>\n",
       "      <td>1_engine</td>\n",
       "    </tr>\n",
       "    <tr>\n",
       "      <th>3</th>\n",
       "      <td>1</td>\n",
       "      <td>X</td>\n",
       "      <td>1-X_engine-of-uncertain-size</td>\n",
       "      <td>1_engine</td>\n",
       "    </tr>\n",
       "    <tr>\n",
       "      <th>4</th>\n",
       "      <td>2</td>\n",
       "      <td>1</td>\n",
       "      <td>2-1_rock-drill</td>\n",
       "      <td>2_machinery-impact</td>\n",
       "    </tr>\n",
       "    <tr>\n",
       "      <th>5</th>\n",
       "      <td>2</td>\n",
       "      <td>2</td>\n",
       "      <td>2-2_jackhammer</td>\n",
       "      <td>2_machinery-impact</td>\n",
       "    </tr>\n",
       "    <tr>\n",
       "      <th>6</th>\n",
       "      <td>2</td>\n",
       "      <td>3</td>\n",
       "      <td>2-3_hoe-ram</td>\n",
       "      <td>2_machinery-impact</td>\n",
       "    </tr>\n",
       "    <tr>\n",
       "      <th>7</th>\n",
       "      <td>2</td>\n",
       "      <td>4</td>\n",
       "      <td>2-4_pile-driver</td>\n",
       "      <td>2_machinery-impact</td>\n",
       "    </tr>\n",
       "    <tr>\n",
       "      <th>8</th>\n",
       "      <td>2</td>\n",
       "      <td>X</td>\n",
       "      <td>2-X_other-unknown-impact-machinery</td>\n",
       "      <td>2_machinery-impact</td>\n",
       "    </tr>\n",
       "    <tr>\n",
       "      <th>9</th>\n",
       "      <td>3</td>\n",
       "      <td>1</td>\n",
       "      <td>3-1_non-machinery-impact</td>\n",
       "      <td>3_non-machinery-impact</td>\n",
       "    </tr>\n",
       "    <tr>\n",
       "      <th>10</th>\n",
       "      <td>4</td>\n",
       "      <td>1</td>\n",
       "      <td>4-1_chainsaw</td>\n",
       "      <td>4_powered-saw</td>\n",
       "    </tr>\n",
       "    <tr>\n",
       "      <th>11</th>\n",
       "      <td>4</td>\n",
       "      <td>2</td>\n",
       "      <td>4-2_small-medium-rotating-saw</td>\n",
       "      <td>4_powered-saw</td>\n",
       "    </tr>\n",
       "    <tr>\n",
       "      <th>12</th>\n",
       "      <td>4</td>\n",
       "      <td>3</td>\n",
       "      <td>4-3_large-rotating-saw</td>\n",
       "      <td>4_powered-saw</td>\n",
       "    </tr>\n",
       "    <tr>\n",
       "      <th>13</th>\n",
       "      <td>4</td>\n",
       "      <td>X</td>\n",
       "      <td>4-X_other-unknown-powered-saw</td>\n",
       "      <td>4_powered-saw</td>\n",
       "    </tr>\n",
       "    <tr>\n",
       "      <th>14</th>\n",
       "      <td>5</td>\n",
       "      <td>1</td>\n",
       "      <td>5-1_car-horn</td>\n",
       "      <td>5_alert-signal</td>\n",
       "    </tr>\n",
       "    <tr>\n",
       "      <th>15</th>\n",
       "      <td>5</td>\n",
       "      <td>2</td>\n",
       "      <td>5-2_car-alarm</td>\n",
       "      <td>5_alert-signal</td>\n",
       "    </tr>\n",
       "    <tr>\n",
       "      <th>16</th>\n",
       "      <td>5</td>\n",
       "      <td>3</td>\n",
       "      <td>5-3_siren</td>\n",
       "      <td>5_alert-signal</td>\n",
       "    </tr>\n",
       "    <tr>\n",
       "      <th>17</th>\n",
       "      <td>5</td>\n",
       "      <td>4</td>\n",
       "      <td>5-4_reverse-beeper</td>\n",
       "      <td>5_alert-signal</td>\n",
       "    </tr>\n",
       "    <tr>\n",
       "      <th>18</th>\n",
       "      <td>5</td>\n",
       "      <td>X</td>\n",
       "      <td>5-X_other-unknown-alert-signal</td>\n",
       "      <td>5_alert-signal</td>\n",
       "    </tr>\n",
       "    <tr>\n",
       "      <th>19</th>\n",
       "      <td>6</td>\n",
       "      <td>1</td>\n",
       "      <td>6-1_stationary-music</td>\n",
       "      <td>6_music</td>\n",
       "    </tr>\n",
       "    <tr>\n",
       "      <th>20</th>\n",
       "      <td>6</td>\n",
       "      <td>2</td>\n",
       "      <td>6-2_mobile-music</td>\n",
       "      <td>6_music</td>\n",
       "    </tr>\n",
       "    <tr>\n",
       "      <th>21</th>\n",
       "      <td>6</td>\n",
       "      <td>3</td>\n",
       "      <td>6-3_ice-cream-truck</td>\n",
       "      <td>6_music</td>\n",
       "    </tr>\n",
       "    <tr>\n",
       "      <th>22</th>\n",
       "      <td>6</td>\n",
       "      <td>X</td>\n",
       "      <td>6-X_music-from-uncertain-source</td>\n",
       "      <td>6_music</td>\n",
       "    </tr>\n",
       "    <tr>\n",
       "      <th>23</th>\n",
       "      <td>7</td>\n",
       "      <td>1</td>\n",
       "      <td>7-1_person-or-small-group-talking</td>\n",
       "      <td>7_human-voice</td>\n",
       "    </tr>\n",
       "    <tr>\n",
       "      <th>24</th>\n",
       "      <td>7</td>\n",
       "      <td>2</td>\n",
       "      <td>7-2_person-or-small-group-shouting</td>\n",
       "      <td>7_human-voice</td>\n",
       "    </tr>\n",
       "    <tr>\n",
       "      <th>25</th>\n",
       "      <td>7</td>\n",
       "      <td>3</td>\n",
       "      <td>7-3_large-crowd</td>\n",
       "      <td>7_human-voice</td>\n",
       "    </tr>\n",
       "    <tr>\n",
       "      <th>26</th>\n",
       "      <td>7</td>\n",
       "      <td>4</td>\n",
       "      <td>7-4_amplified-speech</td>\n",
       "      <td>7_human-voice</td>\n",
       "    </tr>\n",
       "    <tr>\n",
       "      <th>27</th>\n",
       "      <td>7</td>\n",
       "      <td>X</td>\n",
       "      <td>7-X_other-unknown-human-voice</td>\n",
       "      <td>7_human-voice</td>\n",
       "    </tr>\n",
       "    <tr>\n",
       "      <th>28</th>\n",
       "      <td>8</td>\n",
       "      <td>1</td>\n",
       "      <td>8-1_dog-barking-whining</td>\n",
       "      <td>8_dog</td>\n",
       "    </tr>\n",
       "  </tbody>\n",
       "</table>\n",
       "</div>"
      ],
      "text/plain": [
       "   coarse_id fine_id                                fine  \\\n",
       "0          1       1           1-1_small-sounding-engine   \n",
       "1          1       2          1-2_medium-sounding-engine   \n",
       "2          1       3           1-3_large-sounding-engine   \n",
       "3          1       X        1-X_engine-of-uncertain-size   \n",
       "4          2       1                      2-1_rock-drill   \n",
       "5          2       2                      2-2_jackhammer   \n",
       "6          2       3                         2-3_hoe-ram   \n",
       "7          2       4                     2-4_pile-driver   \n",
       "8          2       X  2-X_other-unknown-impact-machinery   \n",
       "9          3       1            3-1_non-machinery-impact   \n",
       "10         4       1                        4-1_chainsaw   \n",
       "11         4       2       4-2_small-medium-rotating-saw   \n",
       "12         4       3              4-3_large-rotating-saw   \n",
       "13         4       X       4-X_other-unknown-powered-saw   \n",
       "14         5       1                        5-1_car-horn   \n",
       "15         5       2                       5-2_car-alarm   \n",
       "16         5       3                           5-3_siren   \n",
       "17         5       4                  5-4_reverse-beeper   \n",
       "18         5       X      5-X_other-unknown-alert-signal   \n",
       "19         6       1                6-1_stationary-music   \n",
       "20         6       2                    6-2_mobile-music   \n",
       "21         6       3                 6-3_ice-cream-truck   \n",
       "22         6       X     6-X_music-from-uncertain-source   \n",
       "23         7       1   7-1_person-or-small-group-talking   \n",
       "24         7       2  7-2_person-or-small-group-shouting   \n",
       "25         7       3                     7-3_large-crowd   \n",
       "26         7       4                7-4_amplified-speech   \n",
       "27         7       X       7-X_other-unknown-human-voice   \n",
       "28         8       1             8-1_dog-barking-whining   \n",
       "\n",
       "                    coarse  \n",
       "0                 1_engine  \n",
       "1                 1_engine  \n",
       "2                 1_engine  \n",
       "3                 1_engine  \n",
       "4       2_machinery-impact  \n",
       "5       2_machinery-impact  \n",
       "6       2_machinery-impact  \n",
       "7       2_machinery-impact  \n",
       "8       2_machinery-impact  \n",
       "9   3_non-machinery-impact  \n",
       "10           4_powered-saw  \n",
       "11           4_powered-saw  \n",
       "12           4_powered-saw  \n",
       "13           4_powered-saw  \n",
       "14          5_alert-signal  \n",
       "15          5_alert-signal  \n",
       "16          5_alert-signal  \n",
       "17          5_alert-signal  \n",
       "18          5_alert-signal  \n",
       "19                 6_music  \n",
       "20                 6_music  \n",
       "21                 6_music  \n",
       "22                 6_music  \n",
       "23           7_human-voice  \n",
       "24           7_human-voice  \n",
       "25           7_human-voice  \n",
       "26           7_human-voice  \n",
       "27           7_human-voice  \n",
       "28                   8_dog  "
      ]
     },
     "execution_count": 20,
     "metadata": {},
     "output_type": "execute_result"
    }
   ],
   "source": [
    "taxonomy_df"
   ]
  },
  {
   "cell_type": "code",
   "execution_count": null,
   "metadata": {},
   "outputs": [],
   "source": []
  }
 ],
 "metadata": {
  "kernelspec": {
   "display_name": "Python 3",
   "language": "python",
   "name": "python3"
  },
  "language_info": {
   "codemirror_mode": {
    "name": "ipython",
    "version": 3
   },
   "file_extension": ".py",
   "mimetype": "text/x-python",
   "name": "python",
   "nbconvert_exporter": "python",
   "pygments_lexer": "ipython3",
   "version": "3.7.4"
  },
  "toc": {
   "base_numbering": 1,
   "nav_menu": {},
   "number_sections": true,
   "sideBar": true,
   "skip_h1_title": false,
   "title_cell": "Table of Contents",
   "title_sidebar": "Contents",
   "toc_cell": false,
   "toc_position": {
    "height": "calc(100% - 180px)",
    "left": "10px",
    "top": "150px",
    "width": "426.667px"
   },
   "toc_section_display": true,
   "toc_window_display": true
  }
 },
 "nbformat": 4,
 "nbformat_minor": 2
}
