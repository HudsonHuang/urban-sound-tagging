{
 "cells": [
  {
   "cell_type": "code",
   "execution_count": 1,
   "metadata": {
    "papermill": {
     "duration": 0.041959,
     "end_time": "2019-10-18T18:29:09.499009",
     "exception": false,
     "start_time": "2019-10-18T18:29:09.457050",
     "status": "completed"
    },
    "tags": [
     "injected-parameters"
    ]
   },
   "outputs": [],
   "source": [
    "# Parameters\n",
    "until_x = 13\n"
   ]
  },
  {
   "cell_type": "code",
   "execution_count": 2,
   "metadata": {
    "papermill": {
     "duration": 1.310948,
     "end_time": "2019-10-18T18:29:10.833266",
     "exception": false,
     "start_time": "2019-10-18T18:29:09.522318",
     "status": "completed"
    },
    "tags": []
   },
   "outputs": [],
   "source": [
    "import pickle\n",
    "import numpy as np\n",
    "import pandas as pd\n",
    "\n",
    "import torch\n",
    "import torch.nn as nn\n",
    "import torch.optim as optim\n",
    "from torch.utils.data import DataLoader\n",
    "from torch.utils.data import Dataset\n",
    "\n",
    "import sys\n",
    "sys.path.append(\"..\")\n",
    "from RandomErasing import RandomErasing\n",
    "\n",
    "import torchvision.models\n",
    "from torchvision import transforms\n",
    "\n",
    "from albumentations import Compose, ShiftScaleRotate, GridDistortion\n",
    "from albumentations.pytorch import ToTensor"
   ]
  },
  {
   "cell_type": "code",
   "execution_count": 3,
   "metadata": {
    "papermill": {
     "duration": 0.06642,
     "end_time": "2019-10-18T18:29:10.926460",
     "exception": false,
     "start_time": "2019-10-18T18:29:10.860040",
     "status": "completed"
    },
    "tags": []
   },
   "outputs": [],
   "source": [
    "def prepare_data(df, unknown_to_known):\n",
    "    df = df.reset_index()\n",
    "    df['slno'] = df.assign(slno=1).groupby('audio_filename')['slno'].cumsum()\n",
    "    df.set_index(['audio_filename', 'slno'], inplace=True)\n",
    "\n",
    "    df_unknown = df.copy().loc[:, list(unknown_to_known.keys())]\n",
    "    df.drop(columns=list(unknown_to_known.keys()), inplace=True)\n",
    "\n",
    "    y_mask = df.copy()\n",
    "    y_mask.loc[:, :] = 1\n",
    "    for unknown, known in unknown_to_known.items():\n",
    "        y_mask.loc[\n",
    "            df_unknown[unknown] > 0.5,\n",
    "            known\n",
    "        ] = 0\n",
    "\n",
    "    df = df.swaplevel(i=1, j=0, axis=0).sort_index()\n",
    "\n",
    "    y_mask = y_mask.swaplevel(i=1, j=0, axis=0).sort_index()\n",
    "\n",
    "    y = np.concatenate([\n",
    "        df.loc[[1], :].values[..., np.newaxis],\n",
    "        df.loc[[2], :].values[..., np.newaxis],\n",
    "        df.loc[[3], :].values[..., np.newaxis]\n",
    "    ], axis=2)\n",
    "\n",
    "    y_mask = np.concatenate([\n",
    "        y_mask.loc[[1], :].values[..., np.newaxis],\n",
    "        y_mask.loc[[2], :].values[..., np.newaxis],\n",
    "        y_mask.loc[[3], :].values[..., np.newaxis]\n",
    "    ], axis=2)\n",
    "\n",
    "    X = np.concatenate([\n",
    "        np.expand_dims(np.load('../../data/logmelspec/{}.npy'.format(x)).T[:635, :], axis=0)\n",
    "        for x in df.loc[[1], :].reset_index(1).audio_filename.tolist()])\n",
    "    X = np.expand_dims(X, axis=1)\n",
    "\n",
    "    return X, y, y_mask\n",
    "\n",
    "\n",
    "random_erasing = RandomErasing()\n",
    "\n",
    "\n",
    "class AudioDataset(Dataset):\n",
    "\n",
    "    def __init__(self, X, y, weights, transform=None):\n",
    "        self.X = X\n",
    "        self.y = y\n",
    "        self.weights = weights\n",
    "        self.transform = transform\n",
    "        self.pil = transforms.ToPILImage()\n",
    "\n",
    "    def __len__(self):\n",
    "        return self.X.shape[0]\n",
    "\n",
    "    def __getitem__(self, idx):\n",
    "        sample = self.X[idx, ...]\n",
    "\n",
    "        if self.transform:\n",
    "            # min-max transformation\n",
    "            this_min = sample.min()\n",
    "            this_max = sample.max()\n",
    "            sample = (sample - this_min) / (this_max - this_min)\n",
    "\n",
    "            # randomly cycle the file\n",
    "            i = np.random.randint(sample.shape[1])\n",
    "            sample = torch.cat([\n",
    "                sample[:, i:, :],\n",
    "                sample[:, :i, :]],\n",
    "                dim=1)\n",
    "\n",
    "            # apply albumentations transforms\n",
    "            sample = np.array(self.pil(sample))\n",
    "            sample = self.transform(image=sample)\n",
    "            sample = sample['image']\n",
    "            sample = sample[None, :, :].permute(0, 2, 1)\n",
    "\n",
    "            # apply random erasing\n",
    "            sample = random_erasing(sample.clone().detach())\n",
    "\n",
    "            # revert min-max transformation\n",
    "            sample = (sample * (this_max - this_min)) + this_min\n",
    "\n",
    "        return sample, self.y[idx, ...], self.weights[idx, ...]"
   ]
  },
  {
   "cell_type": "code",
   "execution_count": 4,
   "metadata": {
    "papermill": {
     "duration": 0.058903,
     "end_time": "2019-10-18T18:29:11.001803",
     "exception": false,
     "start_time": "2019-10-18T18:29:10.942900",
     "status": "completed"
    },
    "tags": []
   },
   "outputs": [],
   "source": [
    "# Load and prepare data\n",
    "with open('../../data/metadata.pkl', 'rb') as f:\n",
    "    metadata = pickle.load(f)\n",
    "\n",
    "unknown_to_known = (\n",
    "    pd.merge(metadata['taxonomy_df'].loc[lambda x: x.fine_id == 'X', ['fine', 'coarse']],\n",
    "             metadata['taxonomy_df'].loc[lambda x: x.fine_id != 'X', ['fine', 'coarse']],\n",
    "             on='coarse', how='inner')\n",
    "    .drop(columns='coarse')\n",
    "    .groupby('fine_x')['fine_y']\n",
    "    .apply(lambda x: list(x)).to_dict())\n",
    "known_labels = metadata['taxonomy_df'].loc[lambda x: x.fine_id != 'X'].fine.tolist()\n",
    "\n",
    "train_df = pd.concat([metadata['coarse_train'], metadata['fine_train']], axis=1, sort=True)\n",
    "valid_df = pd.concat([metadata['coarse_test'], metadata['fine_test']], axis=1, sort=True)"
   ]
  },
  {
   "cell_type": "code",
   "execution_count": 5,
   "metadata": {
    "papermill": {
     "duration": 0.062954,
     "end_time": "2019-10-18T18:29:11.087572",
     "exception": false,
     "start_time": "2019-10-18T18:29:11.024618",
     "status": "completed"
    },
    "tags": []
   },
   "outputs": [],
   "source": [
    "# manual correction for one data point\n",
    "train_df.loc[(train_df.sum(axis=1) == 37).copy(), :] = 0\n",
    "valid_df.loc[(valid_df.sum(axis=1) == 37).copy(), :] = 0"
   ]
  },
  {
   "cell_type": "code",
   "execution_count": 6,
   "metadata": {
    "papermill": {
     "duration": 3.608085,
     "end_time": "2019-10-18T18:29:14.716337",
     "exception": false,
     "start_time": "2019-10-18T18:29:11.108252",
     "status": "completed"
    },
    "tags": []
   },
   "outputs": [],
   "source": [
    "train_X, train_y, train_y_mask = prepare_data(train_df, unknown_to_known)\n",
    "valid_X, valid_y, valid_y_mask = prepare_data(valid_df, unknown_to_known)"
   ]
  },
  {
   "cell_type": "code",
   "execution_count": 7,
   "metadata": {
    "papermill": {
     "duration": 6.465843,
     "end_time": "2019-10-18T18:29:21.210505",
     "exception": false,
     "start_time": "2019-10-18T18:29:14.744662",
     "status": "completed"
    },
    "tags": []
   },
   "outputs": [],
   "source": [
    "# Channel wise normalization\n",
    "channel_means = train_X.reshape(-1, 128).mean(axis=0).reshape(1, 1, 1, -1)\n",
    "channel_stds = train_X.reshape(-1, 128).std(axis=0).reshape(1, 1, 1, -1)\n",
    "train_X = (train_X - channel_means) / channel_stds\n",
    "valid_X = (valid_X - channel_means) / channel_stds"
   ]
  },
  {
   "cell_type": "code",
   "execution_count": 8,
   "metadata": {
    "papermill": {
     "duration": 0.030095,
     "end_time": "2019-10-18T18:29:21.264749",
     "exception": false,
     "start_time": "2019-10-18T18:29:21.234654",
     "status": "completed"
    },
    "tags": []
   },
   "outputs": [],
   "source": [
    "# Define the data augmentation transformations\n",
    "albumentations_transform = Compose([\n",
    "    ShiftScaleRotate(shift_limit=0.1, scale_limit=0.1, rotate_limit=0.5),\n",
    "    GridDistortion(),\n",
    "    ToTensor()\n",
    "])"
   ]
  },
  {
   "cell_type": "code",
   "execution_count": 9,
   "metadata": {
    "papermill": {
     "duration": 0.603072,
     "end_time": "2019-10-18T18:29:21.890799",
     "exception": false,
     "start_time": "2019-10-18T18:29:21.287727",
     "status": "completed"
    },
    "tags": []
   },
   "outputs": [],
   "source": [
    "# Create the datasets and the dataloaders\n",
    "train_dataset = AudioDataset(torch.Tensor(train_X),\n",
    "                             torch.Tensor(train_y),\n",
    "                             torch.Tensor(train_y_mask),\n",
    "                             albumentations_transform)\n",
    "valid_dataset = AudioDataset(torch.Tensor(valid_X),\n",
    "                             torch.Tensor(valid_y),\n",
    "                             torch.Tensor(valid_y_mask),\n",
    "                             None)\n",
    "\n",
    "val_loader = DataLoader(valid_dataset, 64, shuffle=False)\n",
    "train_loader_1 = DataLoader(train_dataset, 64, shuffle=True)\n",
    "train_loader_2 = DataLoader(train_dataset, 64, shuffle=True)"
   ]
  },
  {
   "cell_type": "code",
   "execution_count": 10,
   "metadata": {
    "papermill": {
     "duration": 0.031425,
     "end_time": "2019-10-18T18:29:21.938806",
     "exception": false,
     "start_time": "2019-10-18T18:29:21.907381",
     "status": "completed"
    },
    "tags": []
   },
   "outputs": [
    {
     "name": "stdout",
     "output_type": "stream",
     "text": [
      "Device:  cuda:0\n"
     ]
    }
   ],
   "source": [
    "# Define the device to be used\n",
    "cuda = True\n",
    "device = torch.device('cuda:0' if cuda else 'cpu')\n",
    "print('Device: ', device)"
   ]
  },
  {
   "cell_type": "code",
   "execution_count": 11,
   "metadata": {
    "papermill": {
     "duration": 0.03095,
     "end_time": "2019-10-18T18:29:21.993996",
     "exception": false,
     "start_time": "2019-10-18T18:29:21.963046",
     "status": "completed"
    },
    "tags": []
   },
   "outputs": [],
   "source": [
    "def weight_reset(layer):\n",
    "    if hasattr(layer, 'reset_parameters'):\n",
    "        layer.reset_parameters()"
   ]
  },
  {
   "cell_type": "code",
   "execution_count": 12,
   "metadata": {
    "papermill": {
     "duration": 0.035321,
     "end_time": "2019-10-18T18:29:22.048322",
     "exception": false,
     "start_time": "2019-10-18T18:29:22.013001",
     "status": "completed"
    },
    "tags": []
   },
   "outputs": [],
   "source": [
    "class Task5Model(nn.Module):\n",
    "\n",
    "    def __init__(self, num_classes):\n",
    "\n",
    "        super().__init__()\n",
    "\n",
    "        self.bw2col = nn.Sequential(\n",
    "            nn.BatchNorm2d(1),\n",
    "            nn.Conv2d(1, 10, 1, padding=0), nn.ReLU(),\n",
    "            nn.Conv2d(10, 3, 1, padding=0), nn.ReLU())\n",
    "\n",
    "        self.mv2 = torchvision.models.mobilenet_v2(pretrained=True)\n",
    "\n",
    "        self.final = nn.Sequential(\n",
    "            nn.Linear(1280, 512), nn.ReLU(), nn.BatchNorm1d(512),\n",
    "            nn.Linear(512, num_classes))\n",
    "        \n",
    "        # Reset after ith layer of mv2\n",
    "        for i, x in enumerate(self.mv2.features.children()):\n",
    "            if i > until_x:\n",
    "                x.apply(weight_reset)\n",
    "\n",
    "    def forward(self, x):\n",
    "        x = self.bw2col(x)\n",
    "        x = self.mv2.features(x)\n",
    "        x = x.max(dim=-1)[0].max(dim=-1)[0]\n",
    "        x = self.final(x)\n",
    "        return x"
   ]
  },
  {
   "cell_type": "code",
   "execution_count": 13,
   "metadata": {
    "papermill": {
     "duration": 5.413783,
     "end_time": "2019-10-18T18:29:27.485437",
     "exception": false,
     "start_time": "2019-10-18T18:29:22.071654",
     "status": "completed"
    },
    "tags": []
   },
   "outputs": [],
   "source": [
    "# Instantiate the model\n",
    "model = Task5Model(31).to(device)"
   ]
  },
  {
   "cell_type": "code",
   "execution_count": 14,
   "metadata": {
    "papermill": {
     "duration": 0.032975,
     "end_time": "2019-10-18T18:29:27.542172",
     "exception": false,
     "start_time": "2019-10-18T18:29:27.509197",
     "status": "completed"
    },
    "tags": []
   },
   "outputs": [],
   "source": [
    "# Define optimizer, scheduler and loss criteria\n",
    "optimizer = optim.Adam(model.parameters(), lr=0.001, amsgrad=True)\n",
    "scheduler = optim.lr_scheduler.ReduceLROnPlateau(optimizer, patience=5, verbose=True)\n",
    "criterion = nn.BCEWithLogitsLoss(reduction='none')"
   ]
  },
  {
   "cell_type": "code",
   "execution_count": 15,
   "metadata": {
    "papermill": {
     "duration": 1746.470435,
     "end_time": "2019-10-18T18:58:34.034558",
     "exception": false,
     "start_time": "2019-10-18T18:29:27.564123",
     "status": "completed"
    },
    "tags": []
   },
   "outputs": [
    {
     "name": "stdout",
     "output_type": "stream",
     "text": [
      "Epoch:  0\n"
     ]
    },
    {
     "name": "stdout",
     "output_type": "stream",
     "text": [
      "0.6062931378145475 0.4254253251211984\n",
      "Epoch:  1\n"
     ]
    },
    {
     "name": "stdout",
     "output_type": "stream",
     "text": [
      "0.2697611853883073 0.18441648142678396\n",
      "Epoch:  2\n"
     ]
    },
    {
     "name": "stdout",
     "output_type": "stream",
     "text": [
      "0.17186162882560008 0.14790681110961096\n",
      "Epoch:  3\n"
     ]
    },
    {
     "name": "stdout",
     "output_type": "stream",
     "text": [
      "0.1633653532008867 0.15100895506995066\n",
      "Epoch:  4\n"
     ]
    },
    {
     "name": "stdout",
     "output_type": "stream",
     "text": [
      "0.15937314001289574 0.1430238772715841\n",
      "Epoch:  5\n"
     ]
    },
    {
     "name": "stdout",
     "output_type": "stream",
     "text": [
      "0.15706137869809125 0.13633699608700617\n",
      "Epoch:  6\n"
     ]
    },
    {
     "name": "stdout",
     "output_type": "stream",
     "text": [
      "0.15643733216298594 0.1320842770593507\n",
      "Epoch:  7\n"
     ]
    },
    {
     "name": "stdout",
     "output_type": "stream",
     "text": [
      "0.15468960758802053 0.13871236039059504\n",
      "Epoch:  8\n"
     ]
    },
    {
     "name": "stdout",
     "output_type": "stream",
     "text": [
      "0.15444805090491837 0.13022176495620183\n",
      "Epoch:  9\n"
     ]
    },
    {
     "name": "stdout",
     "output_type": "stream",
     "text": [
      "0.15510902493386655 0.13200256122010096\n",
      "Epoch:  10\n"
     ]
    },
    {
     "name": "stdout",
     "output_type": "stream",
     "text": [
      "0.15294153585627274 0.13923072602067674\n",
      "Epoch:  11\n"
     ]
    },
    {
     "name": "stdout",
     "output_type": "stream",
     "text": [
      "0.15183155198354978 0.12859525850840978\n",
      "Epoch:  12\n"
     ]
    },
    {
     "name": "stdout",
     "output_type": "stream",
     "text": [
      "0.15146113046117732 0.12786725695644105\n",
      "Epoch:  13\n"
     ]
    },
    {
     "name": "stdout",
     "output_type": "stream",
     "text": [
      "0.1511573360578434 0.1263951967869486\n",
      "Epoch:  14\n"
     ]
    },
    {
     "name": "stdout",
     "output_type": "stream",
     "text": [
      "0.1501130050904042 0.12758283104215348\n",
      "Epoch:  15\n"
     ]
    },
    {
     "name": "stdout",
     "output_type": "stream",
     "text": [
      "0.15039579006465706 0.1279729072536741\n",
      "Epoch:  16\n"
     ]
    },
    {
     "name": "stdout",
     "output_type": "stream",
     "text": [
      "0.15004182627072205 0.12630873599222728\n",
      "Epoch:  17\n"
     ]
    },
    {
     "name": "stdout",
     "output_type": "stream",
     "text": [
      "0.1505607358507208 0.1278770693710872\n",
      "Epoch:  18\n"
     ]
    },
    {
     "name": "stdout",
     "output_type": "stream",
     "text": [
      "0.14927582241393425 0.13029522448778152\n",
      "Epoch:  19\n"
     ]
    },
    {
     "name": "stdout",
     "output_type": "stream",
     "text": [
      "0.1487966630909894 0.13180262808288848\n",
      "Epoch:  20\n"
     ]
    },
    {
     "name": "stdout",
     "output_type": "stream",
     "text": [
      "0.1483745220545176 0.12474064741815839\n",
      "Epoch:  21\n"
     ]
    },
    {
     "name": "stdout",
     "output_type": "stream",
     "text": [
      "0.14850909323305697 0.1285064113991601\n",
      "Epoch:  22\n"
     ]
    },
    {
     "name": "stdout",
     "output_type": "stream",
     "text": [
      "0.14935900472305916 0.12820823916367122\n",
      "Epoch:  23\n"
     ]
    },
    {
     "name": "stdout",
     "output_type": "stream",
     "text": [
      "0.1479082904957436 0.12451855731861931\n",
      "Epoch:  24\n"
     ]
    },
    {
     "name": "stdout",
     "output_type": "stream",
     "text": [
      "0.1481831971857999 0.1252713661108698\n",
      "Epoch:  25\n"
     ]
    },
    {
     "name": "stdout",
     "output_type": "stream",
     "text": [
      "0.14768948184477315 0.1265670018536704\n",
      "Epoch:  26\n"
     ]
    },
    {
     "name": "stdout",
     "output_type": "stream",
     "text": [
      "0.14791985339409597 0.12804593784468515\n",
      "Epoch:  27\n"
     ]
    },
    {
     "name": "stdout",
     "output_type": "stream",
     "text": [
      "0.1460154801607132 0.12529792423759187\n",
      "Epoch:  28\n"
     ]
    },
    {
     "name": "stdout",
     "output_type": "stream",
     "text": [
      "0.14666171492757024 0.13193826803139277\n",
      "Epoch:  29\n"
     ]
    },
    {
     "name": "stdout",
     "output_type": "stream",
     "text": [
      "0.1475678521233636 0.12936239796025412\n",
      "Epoch    29: reducing learning rate of group 0 to 1.0000e-04.\n",
      "Epoch:  30\n"
     ]
    },
    {
     "name": "stdout",
     "output_type": "stream",
     "text": [
      "0.1454387170237464 0.12202061819178718\n",
      "Epoch:  31\n"
     ]
    },
    {
     "name": "stdout",
     "output_type": "stream",
     "text": [
      "0.14457830867251834 0.12127651274204254\n",
      "Epoch:  32\n"
     ]
    },
    {
     "name": "stdout",
     "output_type": "stream",
     "text": [
      "0.14374717022921588 0.12116002291440964\n",
      "Epoch:  33\n"
     ]
    },
    {
     "name": "stdout",
     "output_type": "stream",
     "text": [
      "0.1428301994865005 0.1214674540928432\n",
      "Epoch:  34\n"
     ]
    },
    {
     "name": "stdout",
     "output_type": "stream",
     "text": [
      "0.14338471680074125 0.1205243808882577\n",
      "Epoch:  35\n"
     ]
    },
    {
     "name": "stdout",
     "output_type": "stream",
     "text": [
      "0.14212812402763883 0.12042011427027839\n",
      "Epoch:  36\n"
     ]
    },
    {
     "name": "stdout",
     "output_type": "stream",
     "text": [
      "0.14222811605479266 0.12070799406085696\n",
      "Epoch:  37\n"
     ]
    },
    {
     "name": "stdout",
     "output_type": "stream",
     "text": [
      "0.1427435605107127 0.12032347172498703\n",
      "Epoch:  38\n"
     ]
    },
    {
     "name": "stdout",
     "output_type": "stream",
     "text": [
      "0.14254922339239637 0.12028477021626063\n",
      "Epoch:  39\n"
     ]
    },
    {
     "name": "stdout",
     "output_type": "stream",
     "text": [
      "0.14318478026905576 0.12037988007068634\n",
      "Epoch:  40\n"
     ]
    },
    {
     "name": "stdout",
     "output_type": "stream",
     "text": [
      "0.14156098099979195 0.12008683170591082\n",
      "Epoch:  41\n"
     ]
    },
    {
     "name": "stdout",
     "output_type": "stream",
     "text": [
      "0.14174219643747485 0.12061384320259094\n",
      "Epoch:  42\n"
     ]
    },
    {
     "name": "stdout",
     "output_type": "stream",
     "text": [
      "0.1409859677424302 0.12020989400999886\n",
      "Epoch:  43\n"
     ]
    },
    {
     "name": "stdout",
     "output_type": "stream",
     "text": [
      "0.14279114877855456 0.12034347121204649\n",
      "Epoch:  44\n"
     ]
    },
    {
     "name": "stdout",
     "output_type": "stream",
     "text": [
      "0.14142403207920692 0.12026847898960114\n",
      "Epoch:  45\n"
     ]
    },
    {
     "name": "stdout",
     "output_type": "stream",
     "text": [
      "0.14119876478169416 0.1200526665363993\n",
      "Epoch:  46\n"
     ]
    },
    {
     "name": "stdout",
     "output_type": "stream",
     "text": [
      "0.1410529524893374 0.1205233803817204\n",
      "Epoch:  47\n"
     ]
    },
    {
     "name": "stdout",
     "output_type": "stream",
     "text": [
      "0.14161232939443072 0.12014547841889518\n",
      "Epoch:  48\n"
     ]
    },
    {
     "name": "stdout",
     "output_type": "stream",
     "text": [
      "0.14157463811539314 0.1200716570019722\n",
      "Epoch:  49\n"
     ]
    },
    {
     "name": "stdout",
     "output_type": "stream",
     "text": [
      "0.14102174462498845 0.11989461311272212\n",
      "Epoch:  50\n"
     ]
    },
    {
     "name": "stdout",
     "output_type": "stream",
     "text": [
      "0.14099811621614405 0.12013968293155942\n",
      "Epoch:  51\n"
     ]
    },
    {
     "name": "stdout",
     "output_type": "stream",
     "text": [
      "0.14211662919134707 0.12021641113928386\n",
      "Epoch:  52\n"
     ]
    },
    {
     "name": "stdout",
     "output_type": "stream",
     "text": [
      "0.14078123062043577 0.12013187791619982\n",
      "Epoch:  53\n"
     ]
    },
    {
     "name": "stdout",
     "output_type": "stream",
     "text": [
      "0.1406052076333278 0.11990956855671746\n",
      "Epoch:  54\n"
     ]
    },
    {
     "name": "stdout",
     "output_type": "stream",
     "text": [
      "0.14156309656194738 0.12076196606670107\n",
      "Epoch:  55\n"
     ]
    },
    {
     "name": "stdout",
     "output_type": "stream",
     "text": [
      "0.14072853286524076 0.12088334134646825\n",
      "Epoch    55: reducing learning rate of group 0 to 1.0000e-05.\n",
      "Epoch:  56\n"
     ]
    },
    {
     "name": "stdout",
     "output_type": "stream",
     "text": [
      "0.1405459678656346 0.12058811954089574\n",
      "Epoch:  57\n"
     ]
    },
    {
     "name": "stdout",
     "output_type": "stream",
     "text": [
      "0.13917122338269208 0.12052650962557111\n",
      "Epoch:  58\n"
     ]
    },
    {
     "name": "stdout",
     "output_type": "stream",
     "text": [
      "0.13965491064496943 0.12047777112041201\n",
      "Epoch:  59\n"
     ]
    },
    {
     "name": "stdout",
     "output_type": "stream",
     "text": [
      "0.1402811335550772 0.12028955348900386\n",
      "Epoch:  60\n"
     ]
    },
    {
     "name": "stdout",
     "output_type": "stream",
     "text": [
      "0.14079417328576785 0.120006905070373\n",
      "Epoch:  61\n"
     ]
    },
    {
     "name": "stdout",
     "output_type": "stream",
     "text": [
      "0.1395535521410607 0.1200799931372915\n",
      "Epoch    61: reducing learning rate of group 0 to 1.0000e-06.\n",
      "Epoch:  62\n"
     ]
    },
    {
     "name": "stdout",
     "output_type": "stream",
     "text": [
      "0.13966696004609805 0.12006769329309464\n",
      "Epoch:  63\n"
     ]
    },
    {
     "name": "stdout",
     "output_type": "stream",
     "text": [
      "0.14065236094835643 0.12015121110848018\n",
      "Epoch:  64\n"
     ]
    },
    {
     "name": "stdout",
     "output_type": "stream",
     "text": [
      "0.13935057295335307 0.12014820958886828\n",
      "Epoch:  65\n"
     ]
    },
    {
     "name": "stdout",
     "output_type": "stream",
     "text": [
      "0.1385265882756259 0.12042489967175893\n",
      "Epoch:  66\n"
     ]
    },
    {
     "name": "stdout",
     "output_type": "stream",
     "text": [
      "0.1413276960720887 0.11995218374899455\n",
      "Epoch:  67\n"
     ]
    },
    {
     "name": "stdout",
     "output_type": "stream",
     "text": [
      "0.13933282325396668 0.1200575658253261\n",
      "Epoch    67: reducing learning rate of group 0 to 1.0000e-07.\n",
      "Epoch:  68\n"
     ]
    },
    {
     "name": "stdout",
     "output_type": "stream",
     "text": [
      "0.1402337283298776 0.12013525302921023\n",
      "Epoch:  69\n"
     ]
    },
    {
     "name": "stdout",
     "output_type": "stream",
     "text": [
      "0.139786688057152 0.12025306480271476\n",
      "Epoch:  70\n"
     ]
    },
    {
     "name": "stdout",
     "output_type": "stream",
     "text": [
      "0.13986025770773758 0.12017686665058136\n",
      "Epoch:  71\n"
     ]
    },
    {
     "name": "stdout",
     "output_type": "stream",
     "text": [
      "0.14020451218695254 0.12023022664444787\n",
      "Epoch:  72\n"
     ]
    },
    {
     "name": "stdout",
     "output_type": "stream",
     "text": [
      "0.13921342951220436 0.12021854413407189\n",
      "Epoch:  73\n"
     ]
    },
    {
     "name": "stdout",
     "output_type": "stream",
     "text": [
      "0.14001190380470172 0.12007961847952434\n",
      "Epoch    73: reducing learning rate of group 0 to 1.0000e-08.\n",
      "Epoch:  74\n"
     ]
    }
   ],
   "source": [
    "epochs = 100\n",
    "train_loss_hist = []\n",
    "valid_loss_hist = []\n",
    "lowest_val_loss = np.inf\n",
    "epochs_without_new_lowest = 0\n",
    "\n",
    "for i in range(epochs):\n",
    "    print('Epoch: ', i)\n",
    "\n",
    "    this_epoch_train_loss = 0\n",
    "    for i1, i2 in zip(train_loader_1, train_loader_2):\n",
    "\n",
    "        # mixup the inputs ---------\n",
    "        alpha = 1\n",
    "        mixup_vals = np.random.beta(alpha, alpha, i1[0].shape[0])\n",
    "\n",
    "        lam = torch.Tensor(mixup_vals.reshape(mixup_vals.shape[0], 1, 1, 1))\n",
    "        inputs = (lam * i1[0]) + ((1 - lam) * i2[0])\n",
    "\n",
    "        lam = torch.Tensor(mixup_vals.reshape(mixup_vals.shape[0], 1, 1))\n",
    "        labels = (lam * i1[1]) + ((1 - lam) * i2[1])\n",
    "        masks = (lam * i1[2]) + ((1 - lam) * i2[2])\n",
    "        # mixup ends ----------\n",
    "\n",
    "        inputs = inputs.to(device)\n",
    "        labels = labels.to(device)\n",
    "        masks = masks.to(device)\n",
    "\n",
    "        optimizer.zero_grad()\n",
    "        with torch.set_grad_enabled(True):\n",
    "            model = model.train()\n",
    "            outputs = model(inputs)\n",
    "            # calculate loss for each set of annotations\n",
    "            loss_0 = criterion(outputs, labels[:, :, 0]) * masks[:, :, 0]\n",
    "            loss_1 = criterion(outputs, labels[:, :, 1]) * masks[:, :, 1]\n",
    "            loss_2 = criterion(outputs, labels[:, :, 2]) * masks[:, :, 2]\n",
    "            loss = (loss_0.sum() + loss_1.sum() + loss_2.sum()) / masks.sum()\n",
    "            loss.backward()\n",
    "            optimizer.step()\n",
    "            this_epoch_train_loss += loss.detach().cpu().numpy()\n",
    "\n",
    "    this_epoch_valid_loss = 0\n",
    "    for inputs, labels, masks in val_loader:\n",
    "        inputs = inputs.to(device)\n",
    "        labels = labels.to(device)\n",
    "        masks = masks.to(device)\n",
    "        optimizer.zero_grad()\n",
    "        with torch.set_grad_enabled(False):\n",
    "            model = model.eval()\n",
    "            outputs = model(inputs)\n",
    "            loss_0 = criterion(outputs, labels[:, :, 0]) * masks[:, :, 0]\n",
    "            loss_1 = criterion(outputs, labels[:, :, 1]) * masks[:, :, 1]\n",
    "            loss_2 = criterion(outputs, labels[:, :, 2]) * masks[:, :, 2]\n",
    "            loss = (loss_0.sum() + loss_1.sum() + loss_2.sum()) / masks.sum()\n",
    "            this_epoch_valid_loss += loss.detach().cpu().numpy()\n",
    "\n",
    "    this_epoch_train_loss /= len(train_loader_1)\n",
    "    this_epoch_valid_loss /= len(val_loader)\n",
    "\n",
    "    train_loss_hist.append(this_epoch_train_loss)\n",
    "    valid_loss_hist.append(this_epoch_valid_loss)\n",
    "\n",
    "    if this_epoch_valid_loss < lowest_val_loss:\n",
    "        lowest_val_loss = this_epoch_valid_loss\n",
    "        torch.save(model.state_dict(), './model_system1_until_{}'.format(until_x))\n",
    "        epochs_without_new_lowest = 0\n",
    "    else:\n",
    "        epochs_without_new_lowest += 1\n",
    "\n",
    "    if epochs_without_new_lowest >= 25:\n",
    "        break\n",
    "\n",
    "    print(this_epoch_train_loss, this_epoch_valid_loss)\n",
    "\n",
    "    scheduler.step(this_epoch_valid_loss)"
   ]
  },
  {
   "cell_type": "code",
   "execution_count": null,
   "metadata": {
    "papermill": {
     "duration": 0.051231,
     "end_time": "2019-10-18T18:58:34.156141",
     "exception": false,
     "start_time": "2019-10-18T18:58:34.104910",
     "status": "completed"
    },
    "tags": []
   },
   "outputs": [],
   "source": []
  }
 ],
 "metadata": {
  "celltoolbar": "Tags",
  "kernelspec": {
   "display_name": "Python 3",
   "language": "python",
   "name": "python3"
  },
  "language_info": {
   "codemirror_mode": {
    "name": "ipython",
    "version": 3
   },
   "file_extension": ".py",
   "mimetype": "text/x-python",
   "name": "python",
   "nbconvert_exporter": "python",
   "pygments_lexer": "ipython3",
   "version": "3.6.9"
  },
  "papermill": {
   "duration": 1767.048624,
   "end_time": "2019-10-18T18:58:35.527538",
   "environment_variables": {},
   "exception": null,
   "input_path": "model1-until-x-rev.ipynb",
   "output_path": "model1-until-13-rev.ipynb",
   "parameters": {
    "until_x": 13
   },
   "start_time": "2019-10-18T18:29:08.478914",
   "version": "1.2.0"
  },
  "toc": {
   "base_numbering": 1,
   "nav_menu": {},
   "number_sections": true,
   "sideBar": true,
   "skip_h1_title": false,
   "title_cell": "Table of Contents",
   "title_sidebar": "Contents",
   "toc_cell": false,
   "toc_position": {},
   "toc_section_display": true,
   "toc_window_display": false
  }
 },
 "nbformat": 4,
 "nbformat_minor": 4
}