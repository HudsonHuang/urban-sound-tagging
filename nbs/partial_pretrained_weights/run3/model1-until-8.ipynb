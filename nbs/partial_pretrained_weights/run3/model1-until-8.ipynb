{
 "cells": [
  {
   "cell_type": "code",
   "execution_count": 1,
   "metadata": {
    "papermill": {
     "duration": 0.716283,
     "end_time": "2019-10-18T17:39:19.066882",
     "exception": false,
     "start_time": "2019-10-18T17:39:18.350599",
     "status": "completed"
    },
    "tags": []
   },
   "outputs": [
    {
     "name": "stderr",
     "output_type": "stream",
     "text": [
      "/home/sai/anaconda3/envs/py37/lib/python3.7/site-packages/torchvision/io/_video_opt.py:17: UserWarning: video reader based on ffmpeg c++ ops not available\n",
      "  warnings.warn(\"video reader based on ffmpeg c++ ops not available\")\n"
     ]
    }
   ],
   "source": [
    "import pickle\n",
    "import numpy as np\n",
    "import pandas as pd\n",
    "\n",
    "import torch\n",
    "import torch.nn as nn\n",
    "import torch.optim as optim\n",
    "from torch.utils.data import DataLoader\n",
    "from torch.utils.data import Dataset\n",
    "\n",
    "import sys\n",
    "sys.path.append(\"..\")\n",
    "from RandomErasing import RandomErasing\n",
    "\n",
    "import torchvision.models\n",
    "from torchvision import transforms\n",
    "\n",
    "from albumentations import Compose, ShiftScaleRotate, GridDistortion\n",
    "from albumentations.pytorch import ToTensor"
   ]
  },
  {
   "cell_type": "code",
   "execution_count": 2,
   "metadata": {
    "papermill": {
     "duration": 0.020011,
     "end_time": "2019-10-18T17:39:19.092898",
     "exception": false,
     "start_time": "2019-10-18T17:39:19.072887",
     "status": "completed"
    },
    "tags": []
   },
   "outputs": [],
   "source": [
    "def prepare_data(df, unknown_to_known):\n",
    "    df = df.reset_index()\n",
    "    df['slno'] = df.assign(slno=1).groupby('audio_filename')['slno'].cumsum()\n",
    "    df.set_index(['audio_filename', 'slno'], inplace=True)\n",
    "\n",
    "    df_unknown = df.copy().loc[:, list(unknown_to_known.keys())]\n",
    "    df.drop(columns=list(unknown_to_known.keys()), inplace=True)\n",
    "\n",
    "    y_mask = df.copy()\n",
    "    y_mask.loc[:, :] = 1\n",
    "    for unknown, known in unknown_to_known.items():\n",
    "        y_mask.loc[\n",
    "            df_unknown[unknown] > 0.5,\n",
    "            known\n",
    "        ] = 0\n",
    "\n",
    "    df = df.swaplevel(i=1, j=0, axis=0).sort_index()\n",
    "\n",
    "    y_mask = y_mask.swaplevel(i=1, j=0, axis=0).sort_index()\n",
    "\n",
    "    y = np.concatenate([\n",
    "        df.loc[[1], :].values[..., np.newaxis],\n",
    "        df.loc[[2], :].values[..., np.newaxis],\n",
    "        df.loc[[3], :].values[..., np.newaxis]\n",
    "    ], axis=2)\n",
    "\n",
    "    y_mask = np.concatenate([\n",
    "        y_mask.loc[[1], :].values[..., np.newaxis],\n",
    "        y_mask.loc[[2], :].values[..., np.newaxis],\n",
    "        y_mask.loc[[3], :].values[..., np.newaxis]\n",
    "    ], axis=2)\n",
    "\n",
    "    X = np.concatenate([\n",
    "        np.expand_dims(np.load('../../data/logmelspec/{}.npy'.format(x)).T[:635, :], axis=0)\n",
    "        for x in df.loc[[1], :].reset_index(1).audio_filename.tolist()])\n",
    "    X = np.expand_dims(X, axis=1)\n",
    "\n",
    "    return X, y, y_mask\n",
    "\n",
    "\n",
    "random_erasing = RandomErasing()\n",
    "\n",
    "\n",
    "class AudioDataset(Dataset):\n",
    "\n",
    "    def __init__(self, X, y, weights, transform=None):\n",
    "        self.X = X\n",
    "        self.y = y\n",
    "        self.weights = weights\n",
    "        self.transform = transform\n",
    "        self.pil = transforms.ToPILImage()\n",
    "\n",
    "    def __len__(self):\n",
    "        return self.X.shape[0]\n",
    "\n",
    "    def __getitem__(self, idx):\n",
    "        sample = self.X[idx, ...]\n",
    "\n",
    "        if self.transform:\n",
    "            # min-max transformation\n",
    "            this_min = sample.min()\n",
    "            this_max = sample.max()\n",
    "            sample = (sample - this_min) / (this_max - this_min)\n",
    "\n",
    "            # randomly cycle the file\n",
    "            i = np.random.randint(sample.shape[1])\n",
    "            sample = torch.cat([\n",
    "                sample[:, i:, :],\n",
    "                sample[:, :i, :]],\n",
    "                dim=1)\n",
    "\n",
    "            # apply albumentations transforms\n",
    "            sample = np.array(self.pil(sample))\n",
    "            sample = self.transform(image=sample)\n",
    "            sample = sample['image']\n",
    "            sample = sample[None, :, :].permute(0, 2, 1)\n",
    "\n",
    "            # apply random erasing\n",
    "            sample = random_erasing(sample.clone().detach())\n",
    "\n",
    "            # revert min-max transformation\n",
    "            sample = (sample * (this_max - this_min)) + this_min\n",
    "\n",
    "        return sample, self.y[idx, ...], self.weights[idx, ...]"
   ]
  },
  {
   "cell_type": "code",
   "execution_count": 3,
   "metadata": {
    "papermill": {
     "duration": 0.026108,
     "end_time": "2019-10-18T17:39:19.124672",
     "exception": false,
     "start_time": "2019-10-18T17:39:19.098564",
     "status": "completed"
    },
    "tags": []
   },
   "outputs": [],
   "source": [
    "# Load and prepare data\n",
    "with open('../../data/metadata.pkl', 'rb') as f:\n",
    "    metadata = pickle.load(f)\n",
    "\n",
    "unknown_to_known = (\n",
    "    pd.merge(metadata['taxonomy_df'].loc[lambda x: x.fine_id == 'X', ['fine', 'coarse']],\n",
    "             metadata['taxonomy_df'].loc[lambda x: x.fine_id != 'X', ['fine', 'coarse']],\n",
    "             on='coarse', how='inner')\n",
    "    .drop(columns='coarse')\n",
    "    .groupby('fine_x')['fine_y']\n",
    "    .apply(lambda x: list(x)).to_dict())\n",
    "known_labels = metadata['taxonomy_df'].loc[lambda x: x.fine_id != 'X'].fine.tolist()\n",
    "\n",
    "train_df = pd.concat([metadata['coarse_train'], metadata['fine_train']], axis=1, sort=True)\n",
    "valid_df = pd.concat([metadata['coarse_test'], metadata['fine_test']], axis=1, sort=True)"
   ]
  },
  {
   "cell_type": "code",
   "execution_count": 4,
   "metadata": {
    "papermill": {
     "duration": 0.021236,
     "end_time": "2019-10-18T17:39:19.151628",
     "exception": false,
     "start_time": "2019-10-18T17:39:19.130392",
     "status": "completed"
    },
    "tags": []
   },
   "outputs": [],
   "source": [
    "# manual correction for one data point\n",
    "train_df.loc[(train_df.sum(axis=1) == 37).copy(), :] = 0\n",
    "valid_df.loc[(valid_df.sum(axis=1) == 37).copy(), :] = 0"
   ]
  },
  {
   "cell_type": "code",
   "execution_count": 5,
   "metadata": {
    "papermill": {
     "duration": 1.40471,
     "end_time": "2019-10-18T17:39:20.562001",
     "exception": false,
     "start_time": "2019-10-18T17:39:19.157291",
     "status": "completed"
    },
    "tags": []
   },
   "outputs": [],
   "source": [
    "train_X, train_y, train_y_mask = prepare_data(train_df, unknown_to_known)\n",
    "valid_X, valid_y, valid_y_mask = prepare_data(valid_df, unknown_to_known)"
   ]
  },
  {
   "cell_type": "code",
   "execution_count": 6,
   "metadata": {
    "papermill": {
     "duration": 1.808094,
     "end_time": "2019-10-18T17:39:22.375814",
     "exception": false,
     "start_time": "2019-10-18T17:39:20.567720",
     "status": "completed"
    },
    "tags": []
   },
   "outputs": [],
   "source": [
    "# Channel wise normalization\n",
    "channel_means = train_X.reshape(-1, 128).mean(axis=0).reshape(1, 1, 1, -1)\n",
    "channel_stds = train_X.reshape(-1, 128).std(axis=0).reshape(1, 1, 1, -1)\n",
    "train_X = (train_X - channel_means) / channel_stds\n",
    "valid_X = (valid_X - channel_means) / channel_stds"
   ]
  },
  {
   "cell_type": "code",
   "execution_count": 7,
   "metadata": {
    "papermill": {
     "duration": 0.010068,
     "end_time": "2019-10-18T17:39:22.391654",
     "exception": false,
     "start_time": "2019-10-18T17:39:22.381586",
     "status": "completed"
    },
    "tags": []
   },
   "outputs": [],
   "source": [
    "# Define the data augmentation transformations\n",
    "albumentations_transform = Compose([\n",
    "    ShiftScaleRotate(shift_limit=0.1, scale_limit=0.1, rotate_limit=0.5),\n",
    "    GridDistortion(),\n",
    "    ToTensor()\n",
    "])"
   ]
  },
  {
   "cell_type": "code",
   "execution_count": 8,
   "metadata": {
    "papermill": {
     "duration": 0.235165,
     "end_time": "2019-10-18T17:39:22.632496",
     "exception": false,
     "start_time": "2019-10-18T17:39:22.397331",
     "status": "completed"
    },
    "tags": []
   },
   "outputs": [],
   "source": [
    "# Create the datasets and the dataloaders\n",
    "train_dataset = AudioDataset(torch.Tensor(train_X),\n",
    "                             torch.Tensor(train_y),\n",
    "                             torch.Tensor(train_y_mask),\n",
    "                             albumentations_transform)\n",
    "valid_dataset = AudioDataset(torch.Tensor(valid_X),\n",
    "                             torch.Tensor(valid_y),\n",
    "                             torch.Tensor(valid_y_mask),\n",
    "                             None)\n",
    "\n",
    "val_loader = DataLoader(valid_dataset, 64, shuffle=False)\n",
    "train_loader_1 = DataLoader(train_dataset, 64, shuffle=True)\n",
    "train_loader_2 = DataLoader(train_dataset, 64, shuffle=True)"
   ]
  },
  {
   "cell_type": "code",
   "execution_count": 9,
   "metadata": {
    "papermill": {
     "duration": 0.010527,
     "end_time": "2019-10-18T17:39:22.648986",
     "exception": false,
     "start_time": "2019-10-18T17:39:22.638459",
     "status": "completed"
    },
    "tags": []
   },
   "outputs": [
    {
     "name": "stdout",
     "output_type": "stream",
     "text": [
      "Device:  cuda:0\n"
     ]
    }
   ],
   "source": [
    "# Define the device to be used\n",
    "cuda = True\n",
    "device = torch.device('cuda:0' if cuda else 'cpu')\n",
    "print('Device: ', device)"
   ]
  },
  {
   "cell_type": "code",
   "execution_count": 10,
   "metadata": {
    "papermill": {
     "duration": 0.009972,
     "end_time": "2019-10-18T17:39:22.664813",
     "exception": false,
     "start_time": "2019-10-18T17:39:22.654841",
     "status": "completed"
    },
    "tags": []
   },
   "outputs": [],
   "source": [
    "def weight_reset(layer):\n",
    "    if hasattr(layer, 'reset_parameters'):\n",
    "        layer.reset_parameters()"
   ]
  },
  {
   "cell_type": "code",
   "execution_count": 11,
   "metadata": {
    "papermill": {
     "duration": 0.009592,
     "end_time": "2019-10-18T17:39:22.680223",
     "exception": false,
     "start_time": "2019-10-18T17:39:22.670631",
     "status": "completed"
    },
    "tags": [
     "parameters"
    ]
   },
   "outputs": [],
   "source": [
    "until_x = None"
   ]
  },
  {
   "cell_type": "code",
   "execution_count": 12,
   "metadata": {
    "papermill": {
     "duration": 0.009373,
     "end_time": "2019-10-18T17:39:22.695449",
     "exception": false,
     "start_time": "2019-10-18T17:39:22.686076",
     "status": "completed"
    },
    "tags": [
     "injected-parameters"
    ]
   },
   "outputs": [],
   "source": [
    "# Parameters\n",
    "until_x = 8\n"
   ]
  },
  {
   "cell_type": "code",
   "execution_count": 13,
   "metadata": {
    "papermill": {
     "duration": 0.01314,
     "end_time": "2019-10-18T17:39:22.714431",
     "exception": false,
     "start_time": "2019-10-18T17:39:22.701291",
     "status": "completed"
    },
    "tags": []
   },
   "outputs": [],
   "source": [
    "class Task5Model(nn.Module):\n",
    "\n",
    "    def __init__(self, num_classes):\n",
    "\n",
    "        super().__init__()\n",
    "\n",
    "        self.bw2col = nn.Sequential(\n",
    "            nn.BatchNorm2d(1),\n",
    "            nn.Conv2d(1, 10, 1, padding=0), nn.ReLU(),\n",
    "            nn.Conv2d(10, 3, 1, padding=0), nn.ReLU())\n",
    "\n",
    "        self.mv2 = torchvision.models.mobilenet_v2(pretrained=True)\n",
    "\n",
    "        self.final = nn.Sequential(\n",
    "            nn.Linear(1280, 512), nn.ReLU(), nn.BatchNorm1d(512),\n",
    "            nn.Linear(512, num_classes))\n",
    "        \n",
    "        # Reset until ith layer of mv2\n",
    "        for i, x in enumerate(self.mv2.features.children()):\n",
    "            if i <= until_x:\n",
    "                x.apply(weight_reset)\n",
    "\n",
    "    def forward(self, x):\n",
    "        x = self.bw2col(x)\n",
    "        x = self.mv2.features(x)\n",
    "        x = x.max(dim=-1)[0].max(dim=-1)[0]\n",
    "        x = self.final(x)\n",
    "        return x"
   ]
  },
  {
   "cell_type": "code",
   "execution_count": 14,
   "metadata": {
    "papermill": {
     "duration": 2.213258,
     "end_time": "2019-10-18T17:39:24.933522",
     "exception": false,
     "start_time": "2019-10-18T17:39:22.720264",
     "status": "completed"
    },
    "tags": []
   },
   "outputs": [],
   "source": [
    "# Instantiate the model\n",
    "model = Task5Model(31).to(device)"
   ]
  },
  {
   "cell_type": "code",
   "execution_count": 15,
   "metadata": {
    "papermill": {
     "duration": 0.011157,
     "end_time": "2019-10-18T17:39:24.950645",
     "exception": false,
     "start_time": "2019-10-18T17:39:24.939488",
     "status": "completed"
    },
    "tags": []
   },
   "outputs": [],
   "source": [
    "# Define optimizer, scheduler and loss criteria\n",
    "optimizer = optim.Adam(model.parameters(), lr=0.001, amsgrad=True)\n",
    "scheduler = optim.lr_scheduler.ReduceLROnPlateau(optimizer, patience=5, verbose=True)\n",
    "criterion = nn.BCEWithLogitsLoss(reduction='none')"
   ]
  },
  {
   "cell_type": "code",
   "execution_count": 16,
   "metadata": {
    "papermill": {
     "duration": 2090.716454,
     "end_time": "2019-10-18T18:14:15.673114",
     "exception": false,
     "start_time": "2019-10-18T17:39:24.956660",
     "status": "completed"
    },
    "scrolled": false,
    "tags": []
   },
   "outputs": [
    {
     "name": "stdout",
     "output_type": "stream",
     "text": [
      "Epoch:  0\n"
     ]
    },
    {
     "name": "stdout",
     "output_type": "stream",
     "text": [
      "0.6328648167687494 0.5170100842203412\n",
      "Epoch:  1\n"
     ]
    },
    {
     "name": "stdout",
     "output_type": "stream",
     "text": [
      "0.33302852148945267 0.21512831321784429\n",
      "Epoch:  2\n"
     ]
    },
    {
     "name": "stdout",
     "output_type": "stream",
     "text": [
      "0.19094356330665382 0.177444726228714\n",
      "Epoch:  3\n"
     ]
    },
    {
     "name": "stdout",
     "output_type": "stream",
     "text": [
      "0.17964836753703453 0.17853395427976335\n",
      "Epoch:  4\n"
     ]
    },
    {
     "name": "stdout",
     "output_type": "stream",
     "text": [
      "0.17672164214623942 0.1669597178697586\n",
      "Epoch:  5\n"
     ]
    },
    {
     "name": "stdout",
     "output_type": "stream",
     "text": [
      "0.1741034368405471 0.15659765047686441\n",
      "Epoch:  6\n"
     ]
    },
    {
     "name": "stdout",
     "output_type": "stream",
     "text": [
      "0.1740356103793995 0.1623335416827883\n",
      "Epoch:  7\n"
     ]
    },
    {
     "name": "stdout",
     "output_type": "stream",
     "text": [
      "0.1729664754223179 0.15615052623408182\n",
      "Epoch:  8\n"
     ]
    },
    {
     "name": "stdout",
     "output_type": "stream",
     "text": [
      "0.1718916252658174 0.30681165414197104\n",
      "Epoch:  9\n"
     ]
    },
    {
     "name": "stdout",
     "output_type": "stream",
     "text": [
      "0.17245753471915787 0.16913566631930216\n",
      "Epoch:  10\n"
     ]
    },
    {
     "name": "stdout",
     "output_type": "stream",
     "text": [
      "0.17110784150458672 0.16378241990293776\n",
      "Epoch:  11\n"
     ]
    },
    {
     "name": "stdout",
     "output_type": "stream",
     "text": [
      "0.16996237716159304 0.20769240174974715\n",
      "Epoch:  12\n"
     ]
    },
    {
     "name": "stdout",
     "output_type": "stream",
     "text": [
      "0.16833325415044217 0.14736050154481614\n",
      "Epoch:  13\n"
     ]
    },
    {
     "name": "stdout",
     "output_type": "stream",
     "text": [
      "0.16644026983428645 0.148767956665584\n",
      "Epoch:  14\n"
     ]
    },
    {
     "name": "stdout",
     "output_type": "stream",
     "text": [
      "0.16517397882165136 0.16486348424639022\n",
      "Epoch:  15\n"
     ]
    },
    {
     "name": "stdout",
     "output_type": "stream",
     "text": [
      "0.1662451987330978 0.14774611379419053\n",
      "Epoch:  16\n"
     ]
    },
    {
     "name": "stdout",
     "output_type": "stream",
     "text": [
      "0.1630992176564964 0.14516595963920867\n",
      "Epoch:  17\n"
     ]
    },
    {
     "name": "stdout",
     "output_type": "stream",
     "text": [
      "0.16169167128769127 0.13915332087448665\n",
      "Epoch:  18\n"
     ]
    },
    {
     "name": "stdout",
     "output_type": "stream",
     "text": [
      "0.16249732230160688 0.14692489270653045\n",
      "Epoch:  19\n"
     ]
    },
    {
     "name": "stdout",
     "output_type": "stream",
     "text": [
      "0.16206138037346504 0.1362525394984654\n",
      "Epoch:  20\n"
     ]
    },
    {
     "name": "stdout",
     "output_type": "stream",
     "text": [
      "0.16040464873249466 0.13786695791142328\n",
      "Epoch:  21\n"
     ]
    },
    {
     "name": "stdout",
     "output_type": "stream",
     "text": [
      "0.16013550315354322 0.14463522817407334\n",
      "Epoch:  22\n"
     ]
    },
    {
     "name": "stdout",
     "output_type": "stream",
     "text": [
      "0.16054210147342166 0.13452864225421632\n",
      "Epoch:  23\n"
     ]
    },
    {
     "name": "stdout",
     "output_type": "stream",
     "text": [
      "0.1597537213080638 0.13323906809091568\n",
      "Epoch:  24\n"
     ]
    },
    {
     "name": "stdout",
     "output_type": "stream",
     "text": [
      "0.15774331946630735 0.13197136563914164\n",
      "Epoch:  25\n"
     ]
    },
    {
     "name": "stdout",
     "output_type": "stream",
     "text": [
      "0.15742638989074811 0.13481378448860987\n",
      "Epoch:  26\n"
     ]
    },
    {
     "name": "stdout",
     "output_type": "stream",
     "text": [
      "0.15951653066519145 0.13717029775891984\n",
      "Epoch:  27\n"
     ]
    },
    {
     "name": "stdout",
     "output_type": "stream",
     "text": [
      "0.15598538558225375 0.13434152411563055\n",
      "Epoch:  28\n"
     ]
    },
    {
     "name": "stdout",
     "output_type": "stream",
     "text": [
      "0.15748778791040988 0.1329316252044269\n",
      "Epoch:  29\n"
     ]
    },
    {
     "name": "stdout",
     "output_type": "stream",
     "text": [
      "0.15760267948782122 0.13364008494785853\n",
      "Epoch:  30\n"
     ]
    },
    {
     "name": "stdout",
     "output_type": "stream",
     "text": [
      "0.15667266016070908 0.13432497424738749\n",
      "Epoch    30: reducing learning rate of group 0 to 1.0000e-04.\n",
      "Epoch:  31\n"
     ]
    },
    {
     "name": "stdout",
     "output_type": "stream",
     "text": [
      "0.15464550578916395 0.12876785333667481\n",
      "Epoch:  32\n"
     ]
    },
    {
     "name": "stdout",
     "output_type": "stream",
     "text": [
      "0.1547487861401326 0.12828227026121958\n",
      "Epoch:  33\n"
     ]
    },
    {
     "name": "stdout",
     "output_type": "stream",
     "text": [
      "0.15331975753242905 0.12775120777743204\n",
      "Epoch:  34\n"
     ]
    },
    {
     "name": "stdout",
     "output_type": "stream",
     "text": [
      "0.15314363788914037 0.12799507592405593\n",
      "Epoch:  35\n"
     ]
    },
    {
     "name": "stdout",
     "output_type": "stream",
     "text": [
      "0.1539394436655818 0.12869067915848323\n",
      "Epoch:  36\n"
     ]
    },
    {
     "name": "stdout",
     "output_type": "stream",
     "text": [
      "0.15312700134676857 0.12753537084375108\n",
      "Epoch:  37\n"
     ]
    },
    {
     "name": "stdout",
     "output_type": "stream",
     "text": [
      "0.15358260797487722 0.12708889267274312\n",
      "Epoch:  38\n"
     ]
    },
    {
     "name": "stdout",
     "output_type": "stream",
     "text": [
      "0.1530090075086903 0.12723674731595175\n",
      "Epoch:  39\n"
     ]
    },
    {
     "name": "stdout",
     "output_type": "stream",
     "text": [
      "0.15281806604282275 0.1269450177039419\n",
      "Epoch:  40\n"
     ]
    },
    {
     "name": "stdout",
     "output_type": "stream",
     "text": [
      "0.15157489156400836 0.12688233809811728\n",
      "Epoch:  41\n"
     ]
    },
    {
     "name": "stdout",
     "output_type": "stream",
     "text": [
      "0.15243889874703176 0.12722772785595485\n",
      "Epoch:  42\n"
     ]
    },
    {
     "name": "stdout",
     "output_type": "stream",
     "text": [
      "0.15161966069324598 0.12716420739889145\n",
      "Epoch:  43\n"
     ]
    },
    {
     "name": "stdout",
     "output_type": "stream",
     "text": [
      "0.15297861880547292 0.12647063497986114\n",
      "Epoch:  44\n"
     ]
    },
    {
     "name": "stdout",
     "output_type": "stream",
     "text": [
      "0.1519719185055913 0.12661113696438925\n",
      "Epoch:  45\n"
     ]
    },
    {
     "name": "stdout",
     "output_type": "stream",
     "text": [
      "0.15225625481154467 0.12591173819133214\n",
      "Epoch:  46\n"
     ]
    },
    {
     "name": "stdout",
     "output_type": "stream",
     "text": [
      "0.15171678364276886 0.1263027393392154\n",
      "Epoch:  47\n"
     ]
    },
    {
     "name": "stdout",
     "output_type": "stream",
     "text": [
      "0.1510256822850253 0.12734978646039963\n",
      "Epoch:  48\n"
     ]
    },
    {
     "name": "stdout",
     "output_type": "stream",
     "text": [
      "0.15166558526657722 0.12636055797338486\n",
      "Epoch:  49\n"
     ]
    },
    {
     "name": "stdout",
     "output_type": "stream",
     "text": [
      "0.152408456882915 0.1263416941676821\n",
      "Epoch:  50\n"
     ]
    },
    {
     "name": "stdout",
     "output_type": "stream",
     "text": [
      "0.15136826964648994 0.1264177741748946\n",
      "Epoch:  51\n"
     ]
    },
    {
     "name": "stdout",
     "output_type": "stream",
     "text": [
      "0.1528633937642381 0.12634393998554774\n",
      "Epoch    51: reducing learning rate of group 0 to 1.0000e-05.\n",
      "Epoch:  52\n"
     ]
    },
    {
     "name": "stdout",
     "output_type": "stream",
     "text": [
      "0.15074930400461764 0.12625489490372793\n",
      "Epoch:  53\n"
     ]
    },
    {
     "name": "stdout",
     "output_type": "stream",
     "text": [
      "0.1517894106942254 0.12567034363746643\n",
      "Epoch:  54\n"
     ]
    },
    {
     "name": "stdout",
     "output_type": "stream",
     "text": [
      "0.15254041955277725 0.12559419976813452\n",
      "Epoch:  55\n"
     ]
    },
    {
     "name": "stdout",
     "output_type": "stream",
     "text": [
      "0.15103641555115982 0.12583978261266435\n",
      "Epoch:  56\n"
     ]
    },
    {
     "name": "stdout",
     "output_type": "stream",
     "text": [
      "0.15128517835526853 0.12569401200328553\n",
      "Epoch:  57\n"
     ]
    },
    {
     "name": "stdout",
     "output_type": "stream",
     "text": [
      "0.15170190261827932 0.1258447766304016\n",
      "Epoch:  58\n"
     ]
    },
    {
     "name": "stdout",
     "output_type": "stream",
     "text": [
      "0.15065814232504046 0.12574439815112523\n",
      "Epoch:  59\n"
     ]
    },
    {
     "name": "stdout",
     "output_type": "stream",
     "text": [
      "0.1499120818602072 0.1255045724766595\n",
      "Epoch:  60\n"
     ]
    },
    {
     "name": "stdout",
     "output_type": "stream",
     "text": [
      "0.15123209719722336 0.12552128838641302\n",
      "Epoch:  61\n"
     ]
    },
    {
     "name": "stdout",
     "output_type": "stream",
     "text": [
      "0.1520591881629583 0.12574443966150284\n",
      "Epoch:  62\n"
     ]
    },
    {
     "name": "stdout",
     "output_type": "stream",
     "text": [
      "0.1513501361415193 0.1257265955209732\n",
      "Epoch:  63\n"
     ]
    },
    {
     "name": "stdout",
     "output_type": "stream",
     "text": [
      "0.14974544821558772 0.12542925029993057\n",
      "Epoch:  64\n"
     ]
    },
    {
     "name": "stdout",
     "output_type": "stream",
     "text": [
      "0.15059300894672806 0.12564090639352798\n",
      "Epoch:  65\n"
     ]
    },
    {
     "name": "stdout",
     "output_type": "stream",
     "text": [
      "0.15227167952705073 0.1256039153252329\n",
      "Epoch:  66\n"
     ]
    },
    {
     "name": "stdout",
     "output_type": "stream",
     "text": [
      "0.15232599667600683 0.12598420679569244\n",
      "Epoch:  67\n"
     ]
    },
    {
     "name": "stdout",
     "output_type": "stream",
     "text": [
      "0.15222694825481725 0.125726546560015\n",
      "Epoch:  68\n"
     ]
    },
    {
     "name": "stdout",
     "output_type": "stream",
     "text": [
      "0.15029512345790863 0.12592318228312901\n",
      "Epoch:  69\n"
     ]
    },
    {
     "name": "stdout",
     "output_type": "stream",
     "text": [
      "0.1504160375208468 0.12573779374361038\n",
      "Epoch    69: reducing learning rate of group 0 to 1.0000e-06.\n",
      "Epoch:  70\n"
     ]
    },
    {
     "name": "stdout",
     "output_type": "stream",
     "text": [
      "0.15069028735160828 0.12581389184509004\n",
      "Epoch:  71\n"
     ]
    },
    {
     "name": "stdout",
     "output_type": "stream",
     "text": [
      "0.15130393931994568 0.12567978565182006\n",
      "Epoch:  72\n"
     ]
    },
    {
     "name": "stdout",
     "output_type": "stream",
     "text": [
      "0.1500583641432427 0.12559024670294353\n",
      "Epoch:  73\n"
     ]
    },
    {
     "name": "stdout",
     "output_type": "stream",
     "text": [
      "0.1514351267266918 0.12582973603691375\n",
      "Epoch:  74\n"
     ]
    },
    {
     "name": "stdout",
     "output_type": "stream",
     "text": [
      "0.15080045606638934 0.12568010815552302\n",
      "Epoch:  75\n"
     ]
    },
    {
     "name": "stdout",
     "output_type": "stream",
     "text": [
      "0.15121985085912654 0.12557838750737055\n",
      "Epoch    75: reducing learning rate of group 0 to 1.0000e-07.\n",
      "Epoch:  76\n"
     ]
    },
    {
     "name": "stdout",
     "output_type": "stream",
     "text": [
      "0.15098655586307114 0.12577358420406068\n",
      "Epoch:  77\n"
     ]
    },
    {
     "name": "stdout",
     "output_type": "stream",
     "text": [
      "0.15070466173661723 0.12592349733625138\n",
      "Epoch:  78\n"
     ]
    },
    {
     "name": "stdout",
     "output_type": "stream",
     "text": [
      "0.15100068417755333 0.12589235710246222\n",
      "Epoch:  79\n"
     ]
    },
    {
     "name": "stdout",
     "output_type": "stream",
     "text": [
      "0.15048123251747442 0.12561548820563725\n",
      "Epoch:  80\n"
     ]
    },
    {
     "name": "stdout",
     "output_type": "stream",
     "text": [
      "0.15037954175794446 0.1257752084306308\n",
      "Epoch:  81\n"
     ]
    },
    {
     "name": "stdout",
     "output_type": "stream",
     "text": [
      "0.1502130659850868 0.12562565611941473\n",
      "Epoch    81: reducing learning rate of group 0 to 1.0000e-08.\n",
      "Epoch:  82\n"
     ]
    },
    {
     "name": "stdout",
     "output_type": "stream",
     "text": [
      "0.1512684246172776 0.125571251979896\n",
      "Epoch:  83\n"
     ]
    },
    {
     "name": "stdout",
     "output_type": "stream",
     "text": [
      "0.15161818346461733 0.1256106293627194\n",
      "Epoch:  84\n"
     ]
    },
    {
     "name": "stdout",
     "output_type": "stream",
     "text": [
      "0.15209889774386948 0.12570962735584804\n",
      "Epoch:  85\n"
     ]
    },
    {
     "name": "stdout",
     "output_type": "stream",
     "text": [
      "0.15075862166043874 0.12571737063782557\n",
      "Epoch:  86\n"
     ]
    },
    {
     "name": "stdout",
     "output_type": "stream",
     "text": [
      "0.15115164099512873 0.12551976953233993\n",
      "Epoch:  87\n"
     ]
    },
    {
     "name": "stdout",
     "output_type": "stream",
     "text": [
      "0.1501866107856905 0.1254795715212822\n",
      "Epoch:  88\n"
     ]
    }
   ],
   "source": [
    "epochs = 100\n",
    "train_loss_hist = []\n",
    "valid_loss_hist = []\n",
    "lowest_val_loss = np.inf\n",
    "epochs_without_new_lowest = 0\n",
    "\n",
    "for i in range(epochs):\n",
    "    print('Epoch: ', i)\n",
    "\n",
    "    this_epoch_train_loss = 0\n",
    "    for i1, i2 in zip(train_loader_1, train_loader_2):\n",
    "\n",
    "        # mixup the inputs ---------\n",
    "        alpha = 1\n",
    "        mixup_vals = np.random.beta(alpha, alpha, i1[0].shape[0])\n",
    "\n",
    "        lam = torch.Tensor(mixup_vals.reshape(mixup_vals.shape[0], 1, 1, 1))\n",
    "        inputs = (lam * i1[0]) + ((1 - lam) * i2[0])\n",
    "\n",
    "        lam = torch.Tensor(mixup_vals.reshape(mixup_vals.shape[0], 1, 1))\n",
    "        labels = (lam * i1[1]) + ((1 - lam) * i2[1])\n",
    "        masks = (lam * i1[2]) + ((1 - lam) * i2[2])\n",
    "        # mixup ends ----------\n",
    "\n",
    "        inputs = inputs.to(device)\n",
    "        labels = labels.to(device)\n",
    "        masks = masks.to(device)\n",
    "\n",
    "        optimizer.zero_grad()\n",
    "        with torch.set_grad_enabled(True):\n",
    "            model = model.train()\n",
    "            outputs = model(inputs)\n",
    "            # calculate loss for each set of annotations\n",
    "            loss_0 = criterion(outputs, labels[:, :, 0]) * masks[:, :, 0]\n",
    "            loss_1 = criterion(outputs, labels[:, :, 1]) * masks[:, :, 1]\n",
    "            loss_2 = criterion(outputs, labels[:, :, 2]) * masks[:, :, 2]\n",
    "            loss = (loss_0.sum() + loss_1.sum() + loss_2.sum()) / masks.sum()\n",
    "            loss.backward()\n",
    "            optimizer.step()\n",
    "            this_epoch_train_loss += loss.detach().cpu().numpy()\n",
    "\n",
    "    this_epoch_valid_loss = 0\n",
    "    for inputs, labels, masks in val_loader:\n",
    "        inputs = inputs.to(device)\n",
    "        labels = labels.to(device)\n",
    "        masks = masks.to(device)\n",
    "        optimizer.zero_grad()\n",
    "        with torch.set_grad_enabled(False):\n",
    "            model = model.eval()\n",
    "            outputs = model(inputs)\n",
    "            loss_0 = criterion(outputs, labels[:, :, 0]) * masks[:, :, 0]\n",
    "            loss_1 = criterion(outputs, labels[:, :, 1]) * masks[:, :, 1]\n",
    "            loss_2 = criterion(outputs, labels[:, :, 2]) * masks[:, :, 2]\n",
    "            loss = (loss_0.sum() + loss_1.sum() + loss_2.sum()) / masks.sum()\n",
    "            this_epoch_valid_loss += loss.detach().cpu().numpy()\n",
    "\n",
    "    this_epoch_train_loss /= len(train_loader_1)\n",
    "    this_epoch_valid_loss /= len(val_loader)\n",
    "\n",
    "    train_loss_hist.append(this_epoch_train_loss)\n",
    "    valid_loss_hist.append(this_epoch_valid_loss)\n",
    "\n",
    "    if this_epoch_valid_loss < lowest_val_loss:\n",
    "        lowest_val_loss = this_epoch_valid_loss\n",
    "        torch.save(model.state_dict(), './model_system1_until_{}'.format(until_x))\n",
    "        epochs_without_new_lowest = 0\n",
    "    else:\n",
    "        epochs_without_new_lowest += 1\n",
    "\n",
    "    if epochs_without_new_lowest >= 25:\n",
    "        break\n",
    "\n",
    "    print(this_epoch_train_loss, this_epoch_valid_loss)\n",
    "\n",
    "    scheduler.step(this_epoch_valid_loss)"
   ]
  },
  {
   "cell_type": "code",
   "execution_count": null,
   "metadata": {
    "papermill": {
     "duration": 0.018913,
     "end_time": "2019-10-18T18:14:15.710926",
     "exception": false,
     "start_time": "2019-10-18T18:14:15.692013",
     "status": "completed"
    },
    "tags": []
   },
   "outputs": [],
   "source": []
  }
 ],
 "metadata": {
  "celltoolbar": "Tags",
  "kernelspec": {
   "display_name": "Python 3",
   "language": "python",
   "name": "python3"
  },
  "language_info": {
   "codemirror_mode": {
    "name": "ipython",
    "version": 3
   },
   "file_extension": ".py",
   "mimetype": "text/x-python",
   "name": "python",
   "nbconvert_exporter": "python",
   "pygments_lexer": "ipython3",
   "version": "3.7.4"
  },
  "papermill": {
   "duration": 2098.411166,
   "end_time": "2019-10-18T18:14:16.234113",
   "environment_variables": {},
   "exception": null,
   "input_path": "model1-until-x.ipynb",
   "output_path": "model1-until-8.ipynb",
   "parameters": {
    "until_x": 8
   },
   "start_time": "2019-10-18T17:39:17.822947",
   "version": "1.2.0"
  },
  "toc": {
   "base_numbering": 1,
   "nav_menu": {},
   "number_sections": true,
   "sideBar": true,
   "skip_h1_title": false,
   "title_cell": "Table of Contents",
   "title_sidebar": "Contents",
   "toc_cell": false,
   "toc_position": {},
   "toc_section_display": true,
   "toc_window_display": false
  }
 },
 "nbformat": 4,
 "nbformat_minor": 2
}