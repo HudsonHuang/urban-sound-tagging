{
 "cells": [
  {
   "cell_type": "code",
   "execution_count": 1,
   "metadata": {},
   "outputs": [],
   "source": [
    "import pandas as pd"
   ]
  },
  {
   "cell_type": "markdown",
   "metadata": {},
   "source": [
    "# system 1- remove the X columns with 0s"
   ]
  },
  {
   "cell_type": "code",
   "execution_count": 2,
   "metadata": {},
   "outputs": [],
   "source": [
    "df = pd.read_csv('./original_submissions/Adapa_FH_task5_1/Adapa_FH_task5_1.output.csv', low_memory=False)"
   ]
  },
  {
   "cell_type": "code",
   "execution_count": 3,
   "metadata": {},
   "outputs": [],
   "source": [
    "df = df.loc[:, ['audio_filename', '1-1_small-sounding-engine',\n",
    "       '1-2_medium-sounding-engine', '1-3_large-sounding-engine',\n",
    "       '2-1_rock-drill', '2-2_jackhammer',\n",
    "       '2-3_hoe-ram', '2-4_pile-driver',\n",
    "       '3-1_non-machinery-impact', '4-1_chainsaw',\n",
    "       '4-2_small-medium-rotating-saw', '4-3_large-rotating-saw',\n",
    "       '5-1_car-horn', '5-2_car-alarm',\n",
    "       '5-3_siren', '5-4_reverse-beeper',\n",
    "       '6-1_stationary-music', '6-2_mobile-music', '6-3_ice-cream-truck',\n",
    "       '7-1_person-or-small-group-talking',\n",
    "       '7-2_person-or-small-group-shouting', '7-3_large-crowd',\n",
    "       '7-4_amplified-speech',\n",
    "       '8-1_dog-barking-whining', '1_engine', '2_machinery-impact',\n",
    "       '3_non-machinery-impact', '4_powered-saw', '5_alert-signal', '6_music',\n",
    "       '7_human-voice', '8_dog']]"
   ]
  },
  {
   "cell_type": "code",
   "execution_count": 4,
   "metadata": {},
   "outputs": [],
   "source": [
    "df = df.sort_values('audio_filename')"
   ]
  },
  {
   "cell_type": "code",
   "execution_count": 5,
   "metadata": {},
   "outputs": [],
   "source": [
    "df.to_csv('./original_submissions/Adapa_FH_task5_1/submission.csv', index=False)"
   ]
  },
  {
   "cell_type": "markdown",
   "metadata": {},
   "source": [
    "---"
   ]
  },
  {
   "cell_type": "code",
   "execution_count": 6,
   "metadata": {},
   "outputs": [],
   "source": [
    "import sys\n",
    "sys.path.append('../../baseline_code')"
   ]
  },
  {
   "cell_type": "code",
   "execution_count": 7,
   "metadata": {},
   "outputs": [],
   "source": [
    "from metrics_test import evaluate, macro_averaged_auprc, micro_averaged_auprc"
   ]
  },
  {
   "cell_type": "markdown",
   "metadata": {},
   "source": [
    "# system 1"
   ]
  },
  {
   "cell_type": "code",
   "execution_count": 8,
   "metadata": {},
   "outputs": [
    {
     "name": "stderr",
     "output_type": "stream",
     "text": [
      "/home/sai/anaconda3/envs/py37/lib/python3.7/site-packages/ipykernel_launcher.py:9: FutureWarning: Series.nonzero() is deprecated and will be removed in a future version.Use Series.to_numpy().nonzero() instead\n",
      "  if __name__ == '__main__':\n"
     ]
    }
   ],
   "source": [
    "df_dict = evaluate(\n",
    "    './original_submissions/Adapa_FH_task5_1/submission.csv',\n",
    "    '../../data/annotations_v030.csv',\n",
    "    '../../data/dcase-ust-taxonomy.yaml',\n",
    "    'coarse'\n",
    ")\n",
    "micro_auprc, eval_df = micro_averaged_auprc(df_dict, return_df=True)\n",
    "macro_auprc, class_auprc = macro_averaged_auprc(df_dict, return_classwise=True)\n",
    "thresh_0pt5_idx = (eval_df['threshold'] >= 0.5).nonzero()[0][0]"
   ]
  },
  {
   "cell_type": "code",
   "execution_count": 9,
   "metadata": {},
   "outputs": [
    {
     "data": {
      "text/plain": [
       "(0.8604909517017842, 0.7181340677914926, 0.6310344827586207)"
      ]
     },
     "execution_count": 9,
     "metadata": {},
     "output_type": "execute_result"
    }
   ],
   "source": [
    "micro_auprc, macro_auprc, eval_df['F'][thresh_0pt5_idx]"
   ]
  },
  {
   "cell_type": "code",
   "execution_count": 10,
   "metadata": {},
   "outputs": [
    {
     "data": {
      "text/plain": [
       "{1: 0.8878180508273705,\n",
       " 2: 0.6274047258111962,\n",
       " 3: 0.3613215704946337,\n",
       " 4: 0.6837998720568597,\n",
       " 5: 0.8967371446463138,\n",
       " 6: 0.40415537037124055,\n",
       " 7: 0.9469310462195636,\n",
       " 8: 0.9369047619047619}"
      ]
     },
     "execution_count": 10,
     "metadata": {},
     "output_type": "execute_result"
    }
   ],
   "source": [
    "class_auprc"
   ]
  },
  {
   "cell_type": "markdown",
   "metadata": {},
   "source": [
    "---"
   ]
  },
  {
   "cell_type": "code",
   "execution_count": 11,
   "metadata": {},
   "outputs": [],
   "source": [
    "import pickle\n",
    "with open('../metadata_v030.pkl', 'rb') as f:\n",
    "    metadata = pickle.load(f)"
   ]
  },
  {
   "cell_type": "code",
   "execution_count": 12,
   "metadata": {},
   "outputs": [],
   "source": [
    "labels = metadata['coarse_test'].sort_index()\n",
    "predictions = pd.read_csv('./original_submissions/Adapa_FH_task5_1/submission.csv').sort_values('audio_filename')"
   ]
  },
  {
   "cell_type": "code",
   "execution_count": 13,
   "metadata": {},
   "outputs": [],
   "source": [
    "from sklearn.metrics import f1_score, average_precision_score"
   ]
  },
  {
   "cell_type": "code",
   "execution_count": 14,
   "metadata": {},
   "outputs": [
    {
     "data": {
      "text/plain": [
       "0.6310344827586207"
      ]
     },
     "execution_count": 14,
     "metadata": {},
     "output_type": "execute_result"
    }
   ],
   "source": [
    "f1_score(labels.values, predictions.iloc[:, 24:].values >= 0.5, average='micro')"
   ]
  },
  {
   "cell_type": "code",
   "execution_count": 15,
   "metadata": {},
   "outputs": [
    {
     "data": {
      "text/plain": [
       "0.7515967679257656"
      ]
     },
     "execution_count": 15,
     "metadata": {},
     "output_type": "execute_result"
    }
   ],
   "source": [
    "average_precision_score(labels.values, predictions.iloc[:, 24:].values, average='macro')"
   ]
  },
  {
   "cell_type": "code",
   "execution_count": 16,
   "metadata": {},
   "outputs": [
    {
     "data": {
      "text/plain": [
       "0.8620198982623635"
      ]
     },
     "execution_count": 16,
     "metadata": {},
     "output_type": "execute_result"
    }
   ],
   "source": [
    "average_precision_score(labels.values, predictions.iloc[:, 24:].values, average='micro')"
   ]
  },
  {
   "cell_type": "markdown",
   "metadata": {},
   "source": [
    "---"
   ]
  },
  {
   "cell_type": "code",
   "execution_count": 17,
   "metadata": {},
   "outputs": [
    {
     "name": "stderr",
     "output_type": "stream",
     "text": [
      "../../baseline_code/metrics_test.py:609: UserWarning: Column not found: 1-X_engine-of-uncertain-size\n",
      "  warnings.warn(\"Column not found: \" + f)\n",
      "../../baseline_code/metrics_test.py:609: UserWarning: Column not found: 2-X_other-unknown-impact-machinery\n",
      "  warnings.warn(\"Column not found: \" + f)\n",
      "../../baseline_code/metrics_test.py:609: UserWarning: Column not found: 4-X_other-unknown-powered-saw\n",
      "  warnings.warn(\"Column not found: \" + f)\n",
      "../../baseline_code/metrics_test.py:609: UserWarning: Column not found: 5-X_other-unknown-alert-signal\n",
      "  warnings.warn(\"Column not found: \" + f)\n",
      "../../baseline_code/metrics_test.py:609: UserWarning: Column not found: 6-X_music-from-uncertain-source\n",
      "  warnings.warn(\"Column not found: \" + f)\n",
      "../../baseline_code/metrics_test.py:609: UserWarning: Column not found: 7-X_other-unknown-human-voice\n",
      "  warnings.warn(\"Column not found: \" + f)\n",
      "/home/sai/anaconda3/envs/py37/lib/python3.7/site-packages/ipykernel_launcher.py:9: FutureWarning: Series.nonzero() is deprecated and will be removed in a future version.Use Series.to_numpy().nonzero() instead\n",
      "  if __name__ == '__main__':\n"
     ]
    }
   ],
   "source": [
    "df_dict = evaluate(\n",
    "    './original_submissions/Adapa_FH_task5_1/submission.csv',\n",
    "    '../../data/annotations_v030.csv',\n",
    "    '../../data/dcase-ust-taxonomy.yaml',\n",
    "    'fine'\n",
    ")\n",
    "micro_auprc, eval_df = micro_averaged_auprc(df_dict, return_df=True)\n",
    "macro_auprc, class_auprc = macro_averaged_auprc(df_dict, return_classwise=True)\n",
    "thresh_0pt5_idx = (eval_df['threshold'] >= 0.5).nonzero()[0][0]"
   ]
  },
  {
   "cell_type": "code",
   "execution_count": 18,
   "metadata": {},
   "outputs": [
    {
     "data": {
      "text/plain": [
       "(0.7509841713345193, 0.6445018971180697, 0.48351648351648346)"
      ]
     },
     "execution_count": 18,
     "metadata": {},
     "output_type": "execute_result"
    }
   ],
   "source": [
    "micro_auprc, macro_auprc, eval_df['F'][thresh_0pt5_idx]"
   ]
  },
  {
   "cell_type": "code",
   "execution_count": 19,
   "metadata": {},
   "outputs": [
    {
     "data": {
      "text/plain": [
       "{1: 0.6650366089010218,\n",
       " 2: 0.7179618883413418,\n",
       " 3: 0.3623863286557734,\n",
       " 4: 0.4860587239848799,\n",
       " 5: 0.8580208975490033,\n",
       " 6: 0.2888572158271304,\n",
       " 7: 0.8413095851139782,\n",
       " 8: 0.9363839285714286}"
      ]
     },
     "execution_count": 19,
     "metadata": {},
     "output_type": "execute_result"
    }
   ],
   "source": [
    "class_auprc"
   ]
  },
  {
   "cell_type": "markdown",
   "metadata": {},
   "source": [
    "# system 2"
   ]
  },
  {
   "cell_type": "code",
   "execution_count": 20,
   "metadata": {},
   "outputs": [
    {
     "name": "stderr",
     "output_type": "stream",
     "text": [
      "/home/sai/anaconda3/envs/py37/lib/python3.7/site-packages/ipykernel_launcher.py:9: FutureWarning: Series.nonzero() is deprecated and will be removed in a future version.Use Series.to_numpy().nonzero() instead\n",
      "  if __name__ == '__main__':\n"
     ]
    }
   ],
   "source": [
    "df_dict = evaluate(\n",
    "    './original_submissions/Adapa_FH_task5_2/Adapa_FH_task5_2.output.csv',\n",
    "    '../../data/annotations_v030.csv',\n",
    "    '../../data/dcase-ust-taxonomy.yaml',\n",
    "    'coarse'\n",
    ")\n",
    "micro_auprc, eval_df = micro_averaged_auprc(df_dict, return_df=True)\n",
    "macro_auprc, class_auprc = macro_averaged_auprc(df_dict, return_classwise=True)\n",
    "thresh_0pt5_idx = (eval_df['threshold'] >= 0.5).nonzero()[0][0]"
   ]
  },
  {
   "cell_type": "code",
   "execution_count": 21,
   "metadata": {},
   "outputs": [
    {
     "data": {
      "text/plain": [
       "(0.847441345117296, 0.7229242727906368, 0.7446504992867332)"
      ]
     },
     "execution_count": 21,
     "metadata": {},
     "output_type": "execute_result"
    }
   ],
   "source": [
    "micro_auprc, macro_auprc, eval_df['F'][thresh_0pt5_idx]"
   ]
  },
  {
   "cell_type": "code",
   "execution_count": 22,
   "metadata": {},
   "outputs": [
    {
     "data": {
      "text/plain": [
       "{1: 0.8775753308689962,\n",
       " 2: 0.5777420693340045,\n",
       " 3: 0.34354944763121636,\n",
       " 4: 0.6431072149160239,\n",
       " 5: 0.8746127708166943,\n",
       " 6: 0.586366950417937,\n",
       " 7: 0.9493179493606303,\n",
       " 8: 0.9311224489795918}"
      ]
     },
     "execution_count": 22,
     "metadata": {},
     "output_type": "execute_result"
    }
   ],
   "source": [
    "class_auprc"
   ]
  },
  {
   "cell_type": "code",
   "execution_count": 23,
   "metadata": {},
   "outputs": [
    {
     "name": "stderr",
     "output_type": "stream",
     "text": [
      "/home/sai/anaconda3/envs/py37/lib/python3.7/site-packages/ipykernel_launcher.py:9: FutureWarning: Series.nonzero() is deprecated and will be removed in a future version.Use Series.to_numpy().nonzero() instead\n",
      "  if __name__ == '__main__':\n"
     ]
    }
   ],
   "source": [
    "df_dict = evaluate(\n",
    "    './original_submissions/Adapa_FH_task5_2/Adapa_FH_task5_2.output.csv',\n",
    "    '../../data/annotations_v030.csv',\n",
    "    '../../data/dcase-ust-taxonomy.yaml',\n",
    "    'fine'\n",
    ")\n",
    "micro_auprc, eval_df = micro_averaged_auprc(df_dict, return_df=True)\n",
    "macro_auprc, class_auprc = macro_averaged_auprc(df_dict, return_classwise=True)\n",
    "thresh_0pt5_idx = (eval_df['threshold'] >= 0.5).nonzero()[0][0]"
   ]
  },
  {
   "cell_type": "code",
   "execution_count": 24,
   "metadata": {},
   "outputs": [
    {
     "data": {
      "text/plain": [
       "(0.7212325589830322, 0.6219152029952728, 0.5752066115702479)"
      ]
     },
     "execution_count": 24,
     "metadata": {},
     "output_type": "execute_result"
    }
   ],
   "source": [
    "micro_auprc, macro_auprc, eval_df['F'][thresh_0pt5_idx]"
   ]
  },
  {
   "cell_type": "code",
   "execution_count": 25,
   "metadata": {},
   "outputs": [
    {
     "data": {
      "text/plain": [
       "{1: 0.6725483986739668,\n",
       " 2: 0.6038218757596093,\n",
       " 3: 0.3744563298449645,\n",
       " 4: 0.3778280861357496,\n",
       " 5: 0.8320598663474603,\n",
       " 6: 0.35065540465973855,\n",
       " 7: 0.8326680964826918,\n",
       " 8: 0.9312835660580021}"
      ]
     },
     "execution_count": 25,
     "metadata": {},
     "output_type": "execute_result"
    }
   ],
   "source": [
    "class_auprc"
   ]
  },
  {
   "cell_type": "markdown",
   "metadata": {},
   "source": [
    "# System 1 - fine label wise AUPRC"
   ]
  },
  {
   "cell_type": "code",
   "execution_count": 26,
   "metadata": {},
   "outputs": [],
   "source": [
    "import pickle\n",
    "with open('../metadata_v030.pkl', 'rb') as f:\n",
    "    metadata = pickle.load(f)"
   ]
  },
  {
   "cell_type": "code",
   "execution_count": 43,
   "metadata": {},
   "outputs": [],
   "source": [
    "labels = metadata['fine_test'].sort_index().reset_index()\n",
    "predictions = pd.read_csv('./original_submissions/Adapa_FH_task5_1/submission.csv').sort_values('audio_filename').reset_index(drop=True)"
   ]
  },
  {
   "cell_type": "code",
   "execution_count": 70,
   "metadata": {},
   "outputs": [],
   "source": [
    "from sklearn.metrics import f1_score, log_loss"
   ]
  },
  {
   "cell_type": "code",
   "execution_count": 55,
   "metadata": {},
   "outputs": [],
   "source": [
    "unknown_to_known = pd.merge(\n",
    "    metadata['taxonomy_df'].loc[lambda x: x.fine_id == 'X', ['fine', 'coarse']],\n",
    "    metadata['taxonomy_df'].loc[lambda x: x.fine_id != 'X', ['fine', 'coarse']],\n",
    "    on='coarse', how='inner').drop(columns='coarse')"
   ]
  },
  {
   "cell_type": "code",
   "execution_count": 56,
   "metadata": {},
   "outputs": [
    {
     "data": {
      "text/html": [
       "<div>\n",
       "<style scoped>\n",
       "    .dataframe tbody tr th:only-of-type {\n",
       "        vertical-align: middle;\n",
       "    }\n",
       "\n",
       "    .dataframe tbody tr th {\n",
       "        vertical-align: top;\n",
       "    }\n",
       "\n",
       "    .dataframe thead th {\n",
       "        text-align: right;\n",
       "    }\n",
       "</style>\n",
       "<table border=\"1\" class=\"dataframe\">\n",
       "  <thead>\n",
       "    <tr style=\"text-align: right;\">\n",
       "      <th></th>\n",
       "      <th>fine_x</th>\n",
       "      <th>fine_y</th>\n",
       "    </tr>\n",
       "  </thead>\n",
       "  <tbody>\n",
       "    <tr>\n",
       "      <th>0</th>\n",
       "      <td>1-X_engine-of-uncertain-size</td>\n",
       "      <td>1-1_small-sounding-engine</td>\n",
       "    </tr>\n",
       "    <tr>\n",
       "      <th>1</th>\n",
       "      <td>1-X_engine-of-uncertain-size</td>\n",
       "      <td>1-2_medium-sounding-engine</td>\n",
       "    </tr>\n",
       "  </tbody>\n",
       "</table>\n",
       "</div>"
      ],
      "text/plain": [
       "                         fine_x                      fine_y\n",
       "0  1-X_engine-of-uncertain-size   1-1_small-sounding-engine\n",
       "1  1-X_engine-of-uncertain-size  1-2_medium-sounding-engine"
      ]
     },
     "execution_count": 56,
     "metadata": {},
     "output_type": "execute_result"
    }
   ],
   "source": [
    "unknown_to_known.head(2)"
   ]
  },
  {
   "cell_type": "code",
   "execution_count": 57,
   "metadata": {},
   "outputs": [
    {
     "data": {
      "text/plain": [
       "True"
      ]
     },
     "execution_count": 57,
     "metadata": {},
     "output_type": "execute_result"
    }
   ],
   "source": [
    "labels.audio_filename.tolist() == predictions.audio_filename.tolist()"
   ]
  },
  {
   "cell_type": "code",
   "execution_count": 75,
   "metadata": {},
   "outputs": [
    {
     "name": "stdout",
     "output_type": "stream",
     "text": [
      "1-1_small-sounding-engine \t 0.0984242027663138\n",
      "1-2_medium-sounding-engine \t 0.38505755468441405\n",
      "1-3_large-sounding-engine \t 0.5781474547038741\n",
      "2-1_rock-drill \t 0.050206748717944005\n",
      "2-2_jackhammer \t 0.03825649293978656\n",
      "2-3_hoe-ram \t 0.013600195155665979\n",
      "2-4_pile-driver \t 0.005864950889693593\n",
      "4-1_chainsaw \t 0.015419959543138208\n",
      "4-2_small-medium-rotating-saw \t 0.07659853158680599\n",
      "4-3_large-rotating-saw \t 0.025414289881343543\n",
      "5-1_car-horn \t 0.12278367389894367\n",
      "5-2_car-alarm \t 0.007177307718377713\n",
      "5-3_siren \t 0.13979216343015632\n",
      "5-4_reverse-beeper \t 0.042177902662773305\n",
      "6-1_stationary-music \t 0.15422969766131184\n",
      "6-2_mobile-music \t 0.03205162193466599\n",
      "6-3_ice-cream-truck \t 0.000851415678177301\n",
      "7-1_person-or-small-group-talking \t 0.3999929232845445\n",
      "7-2_person-or-small-group-shouting \t 0.2084412774893141\n",
      "7-3_large-crowd \t 0.010967049421687181\n",
      "7-4_amplified-speech \t 0.06528371652463615\n"
     ]
    }
   ],
   "source": [
    "for uk, kn in unknown_to_known.to_records(index=False):\n",
    "    \n",
    "    this_labels = labels.loc[\n",
    "        labels[uk] == 0,\n",
    "        kn]\n",
    "    \n",
    "    this_predictions = predictions.loc[\n",
    "        labels[uk] == 0,\n",
    "        kn]\n",
    "    print(kn, '\\t',\n",
    "          log_loss(this_labels, this_predictions, labels=[0,1])\n",
    "         )"
   ]
  },
  {
   "cell_type": "code",
   "execution_count": null,
   "metadata": {},
   "outputs": [],
   "source": []
  }
 ],
 "metadata": {
  "kernelspec": {
   "display_name": "Python 3",
   "language": "python",
   "name": "python3"
  },
  "language_info": {
   "codemirror_mode": {
    "name": "ipython",
    "version": 3
   },
   "file_extension": ".py",
   "mimetype": "text/x-python",
   "name": "python",
   "nbconvert_exporter": "python",
   "pygments_lexer": "ipython3",
   "version": "3.7.4"
  },
  "toc": {
   "base_numbering": 1,
   "nav_menu": {},
   "number_sections": true,
   "sideBar": true,
   "skip_h1_title": false,
   "title_cell": "Table of Contents",
   "title_sidebar": "Contents",
   "toc_cell": false,
   "toc_position": {},
   "toc_section_display": true,
   "toc_window_display": true
  }
 },
 "nbformat": 4,
 "nbformat_minor": 2
}
